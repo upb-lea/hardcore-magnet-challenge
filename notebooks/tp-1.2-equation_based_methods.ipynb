{
 "cells": [
  {
   "cell_type": "code",
   "execution_count": 1,
   "id": "be3baf63",
   "metadata": {},
   "outputs": [],
   "source": [
    "import pandas as pd\n",
    "import numpy as np\n",
    "import matplotlib \n",
    "import matplotlib.pyplot as plt\n",
    "import matplotlib.animation as animation\n",
    "\n",
    "from pathlib import Path\n",
    "\n",
    "# Global settings for matplotlib\n",
    "fontsize = 8\n",
    "matplotlib.rc('xtick', labelsize=fontsize) \n",
    "matplotlib.rc('ytick', labelsize=fontsize) \n",
    "\n",
    "plt.style.use(\"default\")\n",
    "plt.rcParams.update({\n",
    "    #\"text.usetex\": False,\n",
    "    #\"font.family\": \"serif\",\n",
    "    #\"font.serif\": [\"Helvetica\"],\n",
    "    'figure.dpi': 200,  # renders images larger for notebook\n",
    "    'axes.grid': True,\n",
    "    'grid.alpha': 0.3,\n",
    "\n",
    "})\n",
    "\n",
    "DATA_SOURCE = Path.cwd() / 'data' / 'input' / 'raw'\n",
    "PROC_SOURCE = DATA_SOURCE.parent / \"processed\"\n",
    "\n",
    "def get_bh_integral(df):\n",
    "    b, h = df.loc[:, [f\"B_t_{k}\" for k in range(1024)]].to_numpy(), df.loc[:, [f\"H_t_{k}\" for k in range(1024)]].to_numpy()\n",
    "    h += 100\n",
    "    return df.freq * 0.5*np.abs(np.sum(b * (np.roll(h, 1, axis=1) - np.roll(h, -1, axis=1)) , axis=1))  # shoelace formula"
   ]
  },
  {
   "attachments": {},
   "cell_type": "markdown",
   "id": "9017a8ca",
   "metadata": {},
   "source": [
    "get data in pandas df"
   ]
  },
  {
   "cell_type": "code",
   "execution_count": 2,
   "id": "f37747c3",
   "metadata": {},
   "outputs": [],
   "source": [
    "ds = pd.read_pickle(PROC_SOURCE / \"ten_materials.pkl.gz\")\n",
    "# full_b, full_h = ds.loc[:, [f\"B_t_{k}\" for k in range(1024)]].to_numpy(), ds.loc[:, [f\"H_t_{k}\" for k in range(1024)]].to_numpy()\n",
    "# print(full_b.shape)"
   ]
  },
  {
   "attachments": {},
   "cell_type": "markdown",
   "id": "94b7ebfd",
   "metadata": {},
   "source": [
    "exemplary BH curve"
   ]
  },
  {
   "cell_type": "code",
   "execution_count": 3,
   "id": "ce9ec9ff",
   "metadata": {},
   "outputs": [
    {
     "ename": "NameError",
     "evalue": "name 'full_h' is not defined",
     "output_type": "error",
     "traceback": [
      "\u001b[1;31m---------------------------------------------------------------------------\u001b[0m",
      "\u001b[1;31mNameError\u001b[0m                                 Traceback (most recent call last)",
      "Cell \u001b[1;32mIn[3], line 3\u001b[0m\n\u001b[0;32m      1\u001b[0m opertation_point_index \u001b[39m=\u001b[39m \u001b[39m42\u001b[39m\n\u001b[0;32m      2\u001b[0m plt\u001b[39m.\u001b[39mfigure(dpi\u001b[39m=\u001b[39m\u001b[39m150\u001b[39m, figsize\u001b[39m=\u001b[39m(\u001b[39m2\u001b[39m,\u001b[39m2\u001b[39m))\n\u001b[1;32m----> 3\u001b[0m plt\u001b[39m.\u001b[39mplot(full_h[opertation_point_index], full_b[opertation_point_index])\n\u001b[0;32m      4\u001b[0m plt\u001b[39m.\u001b[39mxlabel(\u001b[39m\"\u001b[39m\u001b[39mH in A/m\u001b[39m\u001b[39m\"\u001b[39m, fontsize\u001b[39m=\u001b[39mfontsize)\n\u001b[0;32m      5\u001b[0m plt\u001b[39m.\u001b[39mylabel(\u001b[39m\"\u001b[39m\u001b[39mB in T\u001b[39m\u001b[39m\"\u001b[39m, fontsize\u001b[39m=\u001b[39mfontsize)\n",
      "\u001b[1;31mNameError\u001b[0m: name 'full_h' is not defined"
     ]
    },
    {
     "data": {
      "text/plain": [
       "<Figure size 300x300 with 0 Axes>"
      ]
     },
     "metadata": {},
     "output_type": "display_data"
    }
   ],
   "source": [
    "opertation_point_index = 42\n",
    "plt.figure(dpi=150, figsize=(2,2))\n",
    "plt.plot(full_h[opertation_point_index], full_b[opertation_point_index])\n",
    "plt.xlabel(\"H in A/m\", fontsize=fontsize)\n",
    "plt.ylabel(\"B in T\", fontsize=fontsize)\n",
    "plt.show()"
   ]
  },
  {
   "attachments": {},
   "cell_type": "markdown",
   "id": "d0bd3c9c",
   "metadata": {},
   "source": [
    "# exploring the data"
   ]
  },
  {
   "cell_type": "code",
   "execution_count": null,
   "id": "3ab5a762",
   "metadata": {},
   "outputs": [],
   "source": [
    "# Display all available materials\n",
    "materials = ds.loc[:, [\"material\"]][\"material\"].unique()\n",
    "print(f\"Materials: {materials}\")\n",
    "\n",
    "# Display all available temperatures\n",
    "temperatures = ds.loc[:, [\"temp\"]][\"temp\"].unique()\n",
    "print(f\"Temperatures: {temperatures}\")"
   ]
  },
  {
   "cell_type": "code",
   "execution_count": null,
   "id": "73d2d9ee",
   "metadata": {},
   "outputs": [],
   "source": [
    "# Choose a temperature - material pair\n",
    "temperature = 25\n",
    "material = 'N49'\n",
    "\n",
    "# Display all available frequencies for the temperature - material pair\n",
    "frequencies = sorted(list(ds.loc[(ds[\"material\"] == material) & (ds[\"temp\"] == temperature)][\"freq\"].unique()))\n",
    "print(f\"Frequencies: {frequencies}\")\n",
    "\n",
    "# filter data for the temperature - material pair\n",
    "ploss = ds.loc[(ds[\"material\"] == material) & (ds[\"temp\"] == temperature)][\"ploss\"].to_numpy()\n",
    "b_max = ds.loc[(ds[\"material\"] == material) & (ds[\"temp\"] == temperature)][[f\"B_t_{k}\" for k in range(0,1024, 4)]].to_numpy().max(1)\n",
    "b_vecs = ds.loc[(ds[\"material\"] == material) & (ds[\"temp\"] == temperature)][[f\"B_t_{k}\" for k in range(0,1024, 4)]].to_numpy()\n",
    "h_vecs = ds.loc[(ds[\"material\"] == material) & (ds[\"temp\"] == temperature)][[f\"H_t_{k}\" for k in range(0,1024, 4)]].to_numpy()\n",
    "freq = ds.loc[(ds[\"material\"] == material) & (ds[\"temp\"] == temperature)][\"freq\"].to_numpy()"
   ]
  },
  {
   "cell_type": "code",
   "execution_count": null,
   "id": "759707e2",
   "metadata": {},
   "outputs": [],
   "source": [
    "fig, axes = plt.subplots(1, 2, dpi=200, figsize=(9, 3), sharex=True, sharey=False)\n",
    "\n",
    "\n",
    "samples_per_periode = 512\n",
    "div_factor = int(1024 / samples_per_periode)\n",
    "b = b_vecs[:, ::div_factor]\n",
    "h = h_vecs[:, ::div_factor]\n",
    "\n",
    "# rms = np.sqrt(np.mean(b**2, axis=1)) \n",
    "# abs = np.mean(np.abs(b), axis=1)\n",
    "# form_factors = rms / mean_abs\n",
    "# print(rms)\n",
    "# print(mean_abs)\n",
    "# print(form_factors)\n",
    "\n",
    "def form_factor(b): \n",
    "    \"\"\"kf = rms / mean(abs)\"\"\"\n",
    "    return np.sqrt(np.mean(b**2, axis=1))  / np.mean(np.abs(b), axis=1)\n",
    "\n",
    "def crest_factor(b): \n",
    "    \"\"\"ks = rms / max()\"\"\"\n",
    "    return np.max(np.abs(b), axis=1)  / np.sqrt(np.mean(b**2, axis=1))\n",
    "\n",
    "# filter with form factor: only keep sines\n",
    "# form factor +/- interval\n",
    "interval_kf = 0.005\n",
    "desired_kf = np.pi/(2*np.sqrt(2))  # ideal sine\n",
    "\n",
    "# filter with crest factor: only keep sines\n",
    "# crest factor +/- interval\n",
    "interval_kc = 0.005\n",
    "desired_kc = np.sqrt(2)  # ideal sine\n",
    "\n",
    "# initialize all True\n",
    "filter_bool = [True] * b.shape[0]\n",
    "\n",
    "# statements = [[crest_factor(b) < desired_kc * (1 + interval_kc)]]\n",
    "statements = [list(form_factor(b) < desired_kf * (1 + interval_kf)),\n",
    "              list(form_factor(b) > desired_kf * (1 - interval_kf)),\n",
    "              list(crest_factor(b) < desired_kc * (1 + interval_kc)),\n",
    "              list(crest_factor(b) > desired_kc * (1 - interval_kc))]\n",
    "\n",
    "for statement in statements:\n",
    "    filter_bool = [a and zr for a, zr in zip(filter_bool, statement)]\n",
    "    print(np.array(filter_bool).sum())\n",
    "\n",
    "b = b[filter_bool]\n",
    "h = h[filter_bool]\n",
    "\n",
    "b_max = b_max[filter_bool]\n",
    "freq = freq[filter_bool]\n",
    "ploss = ploss[filter_bool]\n",
    "\n",
    "print(b.shape)\n",
    "print(h.shape)\n",
    "# print(b)\n",
    "# print(h)\n",
    "axes[0].plot(b.T)\n",
    "axes[1].plot(h.T)\n",
    "\n",
    "plt.show()"
   ]
  },
  {
   "cell_type": "code",
   "execution_count": null,
   "id": "d528d91e",
   "metadata": {},
   "outputs": [],
   "source": [
    "# Plot some exemplary parts of the data\n",
    "plt.figure(dpi=150, figsize=(2,2))\n",
    "\n",
    "fig, axes = plt.subplots(1, ncols=2, dpi=150, sharex=False, sharey=True, figsize=(6, 3))\n",
    "\n",
    "axes[0].scatter(freq, ploss)\n",
    "axes[0].set_xlabel('frequency in Hz', fontsize=fontsize)\n",
    "axes[0].set_ylabel(\"loss density in W/m³\", fontsize=fontsize)\n",
    "axes[1].scatter(b_max, ploss)\n",
    "axes[1].set_xlabel('Bpeak in T', fontsize=fontsize)\n",
    "\n",
    "plt.show()"
   ]
  },
  {
   "attachments": {},
   "cell_type": "markdown",
   "id": "22c70e91",
   "metadata": {},
   "source": [
    "# Steinmetz Fitting"
   ]
  },
  {
   "cell_type": "code",
   "execution_count": null,
   "id": "fd410b7d",
   "metadata": {},
   "outputs": [],
   "source": [
    "def steinmetz(freq, b_max, alpha, beta, k):\n",
    "    return k*freq**alpha*b_max**beta"
   ]
  },
  {
   "cell_type": "code",
   "execution_count": null,
   "id": "c033a24c",
   "metadata": {},
   "outputs": [],
   "source": [
    "# Some heuristic values as comparison\n",
    "init_alpha = 1.42\n",
    "init_beta = 2.6\n",
    "init_k = 2\n",
    "\n",
    "# estimated_loss = np.array(len(freq))\n",
    "def estimated_loss(alpha, beta, k):\n",
    "    return steinmetz(freq, b_max, alpha, beta, k)\n",
    "\n",
    "def normalized_error(alpha, beta, k):\n",
    "    return np.mean(abs((estimated_loss(alpha, beta, k)-ploss)/ploss))\n",
    "\n",
    "\n",
    "normalized_error(init_alpha, init_beta, init_k)\n",
    "#plt.scatter(freq, estimated_loss)\n",
    "#plt.scatter(freq, ploss)\n",
    "#plt.scatter(freq, (estimated_loss-ploss)/ploss)\n",
    "#plt.show()"
   ]
  },
  {
   "cell_type": "code",
   "execution_count": null,
   "id": "a70d4252",
   "metadata": {},
   "outputs": [],
   "source": [
    "import optuna\n",
    "\n",
    "def objective(trial):\n",
    "    aa = trial.suggest_float('aa', 1, 2)\n",
    "    bb = trial.suggest_float('bb', 2.5, 4)\n",
    "    kk = trial.suggest_float('kk', 0.1, 100)\n",
    "    return normalized_error(aa, bb, kk)\n",
    "\n",
    "study = optuna.create_study()\n",
    "study.optimize(objective, n_trials=500)\n",
    "\n",
    "study.best_params  # E.g. {'x': 2.002108042}"
   ]
  },
  {
   "cell_type": "code",
   "execution_count": null,
   "id": "c2059d41",
   "metadata": {},
   "outputs": [],
   "source": [
    "# fig = optuna.visualization.plot_optimization_history(study)\n",
    "# fig.show()\n"
   ]
  },
  {
   "cell_type": "code",
   "execution_count": null,
   "id": "890ef9b6",
   "metadata": {},
   "outputs": [],
   "source": [
    "# fig = optuna.visualization.plot_contour(study, params=[\"aa\", \"bb\", \"kk\"])\n",
    "# fig.show()"
   ]
  },
  {
   "cell_type": "code",
   "execution_count": null,
   "id": "693eacb9",
   "metadata": {},
   "outputs": [],
   "source": [
    "error_norm = (estimated_loss(study.best_params[\"aa\"],study.best_params[\"bb\"],study.best_params[\"kk\"]) -ploss)/ploss\n",
    "\n",
    "\n",
    "# 1D error plots\n",
    "#plt.scatter(b_max, error_norm)\n",
    "#plt.scatter(freq, error_norm)\n",
    "\n",
    "# 2D error plots\n",
    "plt.figure(dpi=150, figsize=(3,3))\n",
    "cm = matplotlib.colormaps['plasma']\n",
    "xy = range(20)\n",
    "sc = plt.scatter(b_max, freq, c=abs(error_norm), vmin=None, vmax=None, s=None, cmap=cm)\n",
    "cbar = plt.colorbar(sc, )\n",
    "cbar.set_label('normalized error: (pSE - preal)/preal', fontsize=fontsize)\n",
    "plt.xlabel(\"Bpeak in T\", fontsize=fontsize)\n",
    "plt.ylabel(\"frequency in Hz\", fontsize=fontsize)\n",
    "\n",
    "plt.show()"
   ]
  },
  {
   "cell_type": "code",
   "execution_count": null,
   "id": "e37eeea0",
   "metadata": {},
   "outputs": [],
   "source": [
    "import numpy as np\n",
    "from matplotlib import pyplot as plt\n",
    "current = np.linspace(-50, 50, 200)\n",
    "flux = 20e-3 * np.tanh(0.1*current)\n",
    "\n",
    "plt.plot(current, flux)\n",
    "plt.show()"
   ]
  }
 ],
 "metadata": {
  "kernelspec": {
   "display_name": "Python 3 (ipykernel)",
   "language": "python",
   "name": "python3"
  },
  "language_info": {
   "codemirror_mode": {
    "name": "ipython",
    "version": 3
   },
   "file_extension": ".py",
   "mimetype": "text/x-python",
   "name": "python",
   "nbconvert_exporter": "python",
   "pygments_lexer": "ipython3",
   "version": "3.10.4"
  }
 },
 "nbformat": 4,
 "nbformat_minor": 5
}
