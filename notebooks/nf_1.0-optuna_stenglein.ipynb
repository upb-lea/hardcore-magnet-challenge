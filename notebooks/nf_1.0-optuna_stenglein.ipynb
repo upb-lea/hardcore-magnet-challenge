{
 "cells": [
  {
   "attachments": {},
   "cell_type": "markdown",
   "metadata": {},
   "source": [
    "# Ordinary Least Squares on magnet challenge dataset"
   ]
  },
  {
   "cell_type": "code",
   "execution_count": 1,
   "metadata": {},
   "outputs": [],
   "source": [
    "import matplotlib.pyplot as plt\n",
    "import matplotlib\n",
    "import numpy as np\n",
    "from sklearn import linear_model\n",
    "from sklearn.linear_model import LinearRegression\n",
    "from sklearn.model_selection import train_test_split\n",
    "import pandas as pd\n",
    "from scipy.interpolate import UnivariateSpline\n",
    "from scipy.integrate import trapezoid"
   ]
  },
  {
   "attachments": {},
   "cell_type": "markdown",
   "metadata": {},
   "source": [
    "# Read Dataset"
   ]
  },
  {
   "cell_type": "code",
   "execution_count": 2,
   "metadata": {},
   "outputs": [],
   "source": [
    "filepath = '/home/nikolasf/Dokumente/01_git/30_Python/MC_UPB/data/input/processed'\n",
    "material_name = 'ten_materials'\n",
    "ds = pd.read_pickle(f'{filepath}/{material_name}.pkl.gz')"
   ]
  },
  {
   "attachments": {},
   "cell_type": "markdown",
   "metadata": {},
   "source": [
    "# Initial edit dataset"
   ]
  },
  {
   "cell_type": "code",
   "execution_count": 3,
   "metadata": {},
   "outputs": [
    {
     "name": "stdout",
     "output_type": "stream",
     "text": [
      "0           2319.444340\n",
      "1           3191.235893\n",
      "2           4341.086142\n",
      "3           5795.359190\n",
      "4           7813.691725\n",
      "              ...      \n",
      "186742     68121.464932\n",
      "186743     85924.743654\n",
      "186744    108411.839417\n",
      "186745    135853.384296\n",
      "186746    171849.522231\n",
      "Name: ploss, Length: 186747, dtype: float64\n",
      "0          7.749083\n",
      "1          8.068164\n",
      "2          8.375880\n",
      "3          8.664813\n",
      "4          8.963633\n",
      "            ...    \n",
      "186742    11.129048\n",
      "186743    11.361227\n",
      "186744    11.593693\n",
      "186745    11.819332\n",
      "186746    12.054375\n",
      "Name: ploss, Length: 186747, dtype: float64\n"
     ]
    }
   ],
   "source": [
    "\n",
    "ds = ds.drop(columns=[c for c in ds if c.startswith(\"H_t\")])\n",
    "#ds = ds.query('temp == 25')\n",
    "\n",
    "# add the saturation flux density. Data from datasheets.\n",
    "ds.loc[ds['material'] == '3C90', 'b_sat_25'] = 0.47\n",
    "ds.loc[ds['material'] == '3C94', 'b_sat_25'] = 0.47\n",
    "ds.loc[ds['material'] == '3E6', 'b_sat_25'] = 0.46\n",
    "ds.loc[ds['material'] == '3F4', 'b_sat_25'] = 0.41\n",
    "ds.loc[ds['material'] == '77', 'b_sat_25'] = 0.51\n",
    "ds.loc[ds['material'] == '78', 'b_sat_25'] = 0.48\n",
    "ds.loc[ds['material'] == 'N27', 'b_sat_25'] = 0.50\n",
    "ds.loc[ds['material'] == 'N30', 'b_sat_25'] = 0.38\n",
    "ds.loc[ds['material'] == 'N49', 'b_sat_25'] = 0.49\n",
    "ds.loc[ds['material'] == 'N87', 'b_sat_25'] = 0.49\n",
    "\n",
    "\n",
    "print(ds['ploss'])\n",
    "ds['ploss'] = np.log(ds['ploss'])\n",
    "ds['freq'] = np.log(ds['freq'])\n",
    "\n",
    "print(ds['ploss'])\n",
    "\n",
    "# print(ds)"
   ]
  },
  {
   "attachments": {},
   "cell_type": "markdown",
   "metadata": {},
   "source": [
    "### Adapted Wilhelm example"
   ]
  },
  {
   "cell_type": "code",
   "execution_count": 9,
   "metadata": {},
   "outputs": [],
   "source": [
    "\"\"\"Run linear regression with regularization training\"\"\"\n",
    "import pandas as pd\n",
    "import numpy as np\n",
    "from sklearn.linear_model import LinearRegression, Ridge\n",
    "from sklearn.ensemble import RandomForestRegressor, HistGradientBoostingRegressor, GradientBoostingRegressor, VotingRegressor, ExtraTreesRegressor\n",
    "from tqdm import tqdm\n",
    "from pprint import pprint\n",
    "from utils.experiments import get_stratified_fold_indices, PROC_SOURCE\n",
    "from utils.metrics import calculate_metrics\n",
    "import xgboost as xgb\n",
    "\n",
    "pd.set_option(\"display.max_columns\", None)\n",
    "\n",
    "\n",
    "def objective(trial):\n",
    "\n",
    "    n_estimators = trial.suggest_int('n_estimators', 100, 800)\n",
    "    # 429 is best\n",
    "    print(f'{n_estimators = }')\n",
    "    criterion = trial.suggest_categorical('criterion', ['squared_error'])\n",
    "    print(f\"{criterion = }\")\n",
    "    learning_rate = trial.suggest_float('learning_rate', 0.01, 0.5)\n",
    "    # 0.12 is best\n",
    "    print(f\"{learning_rate = }\")\n",
    "    \n",
    "    exp_log = {}\n",
    "    for material_lbl, mat_df in tqdm(ds.groupby(\"material\"), desc=\"Train across materials\"):\n",
    "        full_b = mat_df.loc[:, [f\"B_t_{k}\" for k in range(1024)]].to_numpy()\n",
    "        dbdt = full_b[:, 1:] - full_b[:, :-1]\n",
    "        mat_df = mat_df.reset_index(drop=True)\n",
    "\n",
    "        x_vec = np.linspace(0, 1023, 1024)\n",
    "        b_vec = []\n",
    "        for value in x_vec:\n",
    "            b_vec.append(f'B_t_{int(value)}')\n",
    "        mat_df[\"b\"] = mat_df[b_vec].values.tolist()\n",
    "        x_vec = None\n",
    "        b_vec = None\n",
    "        mat_df['delta_b'] = mat_df['b'].map(lambda x: np.max(x) - np.min(x))\n",
    "\n",
    "        # figure out integral_part \n",
    "        mat_df[\"time_s\"] = mat_df[\"freq\"].map(lambda x: np.linspace(0, 1/x, 1024))\n",
    "\n",
    "        # derivation\n",
    "        # according to https://im-coder.com/zweite-ableitung-in-python-scipy-numpy-pandas.html\n",
    "        mat_df[\"fitted_function\"] = mat_df.apply(lambda x: UnivariateSpline(x[\"time_s\"], x[\"b\"], s=0, k=4), axis=1)\n",
    "        mat_df[\"amplitude_2nd_derivation\"] = mat_df[\"fitted_function\"].apply(lambda x: x.derivative(n=2))\n",
    "        mat_df[\"integrated_function\"] = mat_df.apply(lambda x: trapezoid(np.abs(x[\"amplitude_2nd_derivation\"](x[\"time_s\"])), x[\"time_s\"]), axis=1)     \n",
    "\n",
    "        mat_df[\"integral_part\"] = mat_df[\"integrated_function\"] / mat_df[\"delta_b\"]\n",
    "\n",
    "        \n",
    "\n",
    "        # cross validation 'kfold'\n",
    "        kfold_lbls = get_stratified_fold_indices(mat_df, 4)\n",
    "        mat_df_proc = mat_df.assign(\n",
    "            kfold=kfold_lbls,\n",
    "            # integral_part=mat_df['integral_part'],\n",
    "            #delta_b=mat_df['delta_b'],\n",
    "            #b_sat=mat_df['b_sat_25'],\n",
    "            db_bsat_1 = mat_df['delta_b'] / mat_df['b_sat_25'],\n",
    "            db_bsat_2 = (mat_df['delta_b'] / mat_df['b_sat_25']) ** 2,\n",
    "            db_bsat_3 = (mat_df['delta_b'] / mat_df['b_sat_25']) ** 3,\n",
    "            db_bsat_4 = (mat_df['delta_b'] / mat_df['b_sat_25']) ** 4,\n",
    "            db_bsat_5 = (mat_df['delta_b'] / mat_df['b_sat_25']) ** 5,\n",
    "            db_bsat_6 = (mat_df['delta_b'] / mat_df['b_sat_25']) ** 6,\n",
    "            temp_square = mat_df['temp'] ** 2,\n",
    "            t2 = (mat_df['integral_part'] ** (-1)) / 2,\n",
    "            #t3 = -(mat_df['integral_part'] ** (-2)) / 6,\n",
    "            #t4 = ( 3 * mat_df['integral_part'] ** (-2) + 2 * mat_df['integral_part'] ** (-3)) / 24,\n",
    "            #mean_abs_dbdt=np.mean(np.abs(mat_df[\"delta_b\"])),\n",
    "            # more features imaginable (count of spikes e.g.)\n",
    "        ).drop(\n",
    "            columns=[c for c in mat_df if c.startswith(\"B_t_\")] + [\"material\"] + ['b'] + ['time_s'] + ['fitted_function'] +['amplitude_2nd_derivation'] + ['integrated_function'] + ['b_sat_25']\n",
    "        )  # drop B curve\n",
    "\n",
    "        # training result container\n",
    "        results_df = mat_df_proc.loc[:, [\"ploss\", \"kfold\"]].assign(pred=0)\n",
    "        x_cols = [c for c in mat_df_proc if c not in [\"ploss\", \"kfold\"]]\n",
    "        print(x_cols)\n",
    "        for kfold_lbl, test_fold_df in mat_df_proc.groupby(\"kfold\"):\n",
    "            train_fold_df = (\n",
    "                mat_df_proc.query(\"kfold != @kfold_lbl\")\n",
    "                .reset_index(drop=True)\n",
    "                .drop(columns=\"kfold\")\n",
    "            )\n",
    "            assert len(train_fold_df) > 0, \"empty dataframe error\"\n",
    "            y = train_fold_df.pop(\"ploss\")\n",
    "            X = train_fold_df.loc[:, x_cols]\n",
    "\n",
    "            #mdl = GradientBoostingRegressor(n_estimators=n_estimators, criterion=criterion, learning_rate=learning_rate) # GradientBoostingRegressor() # HistGradientBoostingRegressor() # RandomForestRegressor(n_estimators = 100) #LinearRegression() # Ridge()  # \n",
    "            mdl = xgb.XGBRegressor(n_estimators=n_estimators, learning_rate=learning_rate) #, max_depth=max_depth)\n",
    "            mdl.fit(X.to_numpy(), y.to_numpy())\n",
    "            pred = mdl.predict(test_fold_df.loc[:, x_cols].to_numpy())\n",
    "            results_df.loc[results_df.kfold == kfold_lbl, \"pred\"] = pred\n",
    "\n",
    "        # book keeping\n",
    "        exp_log[material_lbl] = calculate_metrics(\n",
    "            np.exp(results_df.loc[:, \"pred\"]), np.exp(results_df.loc[:, \"ploss\"])\n",
    "        )\n",
    "    print(mdl.__class__.__name__)\n",
    "    print(f\"{n_estimators = }\")\n",
    "    print(f\"{learning_rate = }\")\n",
    "    print(mdl.feature_importances_)\n",
    "    \n",
    "    print(\"Overall Score\")\n",
    "    score = pd.DataFrame(exp_log).T\n",
    "    print(score)\n",
    "\n",
    "    added_avg_abs_rel_err = score['avg-abs-rel-err'].sum()\n",
    "    print('sum error')\n",
    "    print(added_avg_abs_rel_err)\n",
    "    \n",
    "    # feature importances\n",
    "    feat_importances = pd.Series(mdl.feature_importances_, index=x_cols)\n",
    "    feat_importances.nlargest(20).plot(kind='barh')\n",
    "    \n",
    "    return added_avg_abs_rel_err"
   ]
  },
  {
   "cell_type": "code",
   "execution_count": 5,
   "metadata": {},
   "outputs": [],
   "source": [
    "# print(mdl.features_importances_)\n"
   ]
  },
  {
   "attachments": {},
   "cell_type": "markdown",
   "metadata": {},
   "source": [
    "### Run objective function single"
   ]
  },
  {
   "cell_type": "code",
   "execution_count": 6,
   "metadata": {},
   "outputs": [],
   "source": [
    "# objective()"
   ]
  },
  {
   "attachments": {},
   "cell_type": "markdown",
   "metadata": {},
   "source": [
    "### Run objective function in a hyperparameter optimization loop"
   ]
  },
  {
   "cell_type": "code",
   "execution_count": 10,
   "metadata": {},
   "outputs": [
    {
     "name": "stderr",
     "output_type": "stream",
     "text": [
      "[I 2023-09-05 09:28:50,113] A new study created in memory with name: no-name-d3c574e9-a7f1-4c75-b26f-34c6ed18b8ab\n"
     ]
    },
    {
     "name": "stdout",
     "output_type": "stream",
     "text": [
      "n_estimators = 283\n",
      "criterion = 'squared_error'\n",
      "learning_rate = 0.4611984857942241\n"
     ]
    },
    {
     "name": "stderr",
     "output_type": "stream",
     "text": [
      "Train across materials:   0%|          | 0/10 [00:00<?, ?it/s]"
     ]
    },
    {
     "name": "stdout",
     "output_type": "stream",
     "text": [
      "['freq', 'temp', 'delta_b', 'integral_part', 'db_bsat_1', 'db_bsat_2', 'db_bsat_3', 'db_bsat_4', 'db_bsat_5', 'db_bsat_6', 'temp_square', 't2']\n"
     ]
    },
    {
     "name": "stderr",
     "output_type": "stream",
     "text": [
      "Train across materials:  10%|█         | 1/10 [01:43<15:31, 103.45s/it]"
     ]
    },
    {
     "name": "stdout",
     "output_type": "stream",
     "text": [
      "['freq', 'temp', 'delta_b', 'integral_part', 'db_bsat_1', 'db_bsat_2', 'db_bsat_3', 'db_bsat_4', 'db_bsat_5', 'db_bsat_6', 'temp_square', 't2']\n"
     ]
    },
    {
     "name": "stderr",
     "output_type": "stream",
     "text": [
      "Train across materials:  20%|██        | 2/10 [04:54<20:38, 154.80s/it]"
     ]
    },
    {
     "name": "stdout",
     "output_type": "stream",
     "text": [
      "['freq', 'temp', 'delta_b', 'integral_part', 'db_bsat_1', 'db_bsat_2', 'db_bsat_3', 'db_bsat_4', 'db_bsat_5', 'db_bsat_6', 'temp_square', 't2']\n"
     ]
    },
    {
     "name": "stderr",
     "output_type": "stream",
     "text": [
      "Train across materials:  30%|███       | 3/10 [05:13<10:50, 92.92s/it] "
     ]
    },
    {
     "name": "stdout",
     "output_type": "stream",
     "text": [
      "['freq', 'temp', 'delta_b', 'integral_part', 'db_bsat_1', 'db_bsat_2', 'db_bsat_3', 'db_bsat_4', 'db_bsat_5', 'db_bsat_6', 'temp_square', 't2']\n"
     ]
    },
    {
     "name": "stderr",
     "output_type": "stream",
     "text": [
      "Train across materials:  40%|████      | 4/10 [05:35<06:28, 64.79s/it]"
     ]
    },
    {
     "name": "stdout",
     "output_type": "stream",
     "text": [
      "['freq', 'temp', 'delta_b', 'integral_part', 'db_bsat_1', 'db_bsat_2', 'db_bsat_3', 'db_bsat_4', 'db_bsat_5', 'db_bsat_6', 'temp_square', 't2']\n"
     ]
    },
    {
     "name": "stderr",
     "output_type": "stream",
     "text": [
      "Train across materials:  50%|█████     | 5/10 [06:12<04:33, 54.76s/it]"
     ]
    },
    {
     "name": "stdout",
     "output_type": "stream",
     "text": [
      "['freq', 'temp', 'delta_b', 'integral_part', 'db_bsat_1', 'db_bsat_2', 'db_bsat_3', 'db_bsat_4', 'db_bsat_5', 'db_bsat_6', 'temp_square', 't2']\n"
     ]
    },
    {
     "name": "stderr",
     "output_type": "stream",
     "text": [
      "Train across materials:  60%|██████    | 6/10 [06:44<03:08, 47.13s/it]"
     ]
    },
    {
     "name": "stdout",
     "output_type": "stream",
     "text": [
      "['freq', 'temp', 'delta_b', 'integral_part', 'db_bsat_1', 'db_bsat_2', 'db_bsat_3', 'db_bsat_4', 'db_bsat_5', 'db_bsat_6', 'temp_square', 't2']\n"
     ]
    },
    {
     "name": "stderr",
     "output_type": "stream",
     "text": [
      "Train across materials:  70%|███████   | 7/10 [07:14<02:05, 41.67s/it]"
     ]
    },
    {
     "name": "stdout",
     "output_type": "stream",
     "text": [
      "['freq', 'temp', 'delta_b', 'integral_part', 'db_bsat_1', 'db_bsat_2', 'db_bsat_3', 'db_bsat_4', 'db_bsat_5', 'db_bsat_6', 'temp_square', 't2']\n"
     ]
    },
    {
     "name": "stderr",
     "output_type": "stream",
     "text": [
      "Train across materials:  80%|████████  | 8/10 [07:40<01:13, 36.57s/it]"
     ]
    },
    {
     "name": "stdout",
     "output_type": "stream",
     "text": [
      "['freq', 'temp', 'delta_b', 'integral_part', 'db_bsat_1', 'db_bsat_2', 'db_bsat_3', 'db_bsat_4', 'db_bsat_5', 'db_bsat_6', 'temp_square', 't2']\n"
     ]
    },
    {
     "name": "stderr",
     "output_type": "stream",
     "text": [
      "Train across materials:  90%|█████████ | 9/10 [08:11<00:34, 34.71s/it]"
     ]
    },
    {
     "name": "stdout",
     "output_type": "stream",
     "text": [
      "['freq', 'temp', 'delta_b', 'integral_part', 'db_bsat_1', 'db_bsat_2', 'db_bsat_3', 'db_bsat_4', 'db_bsat_5', 'db_bsat_6', 'temp_square', 't2']\n"
     ]
    },
    {
     "name": "stderr",
     "output_type": "stream",
     "text": [
      "Train across materials: 100%|██████████| 10/10 [14:37<00:00, 87.72s/it] \n"
     ]
    },
    {
     "name": "stdout",
     "output_type": "stream",
     "text": [
      "XGBRegressor\n",
      "n_estimators = 283\n",
      "learning_rate = 0.4611984857942241\n",
      "[8.3938025e-02 1.5201190e-02 2.5061741e-01 6.7338264e-03 6.4303976e-01\n",
      " 0.0000000e+00 0.0000000e+00 0.0000000e+00 1.5479772e-04 0.0000000e+00\n",
      " 0.0000000e+00 3.1498482e-04]\n",
      "Overall Score\n",
      "               mse           mae  avg-abs-rel-err  percentile_5_rel_err  \\\n",
      "3C90  3.991364e+08   8614.333195         0.078243              0.004614   \n",
      "3C94  9.544469e+08  13385.412128         0.071714              0.004823   \n",
      "3E6   4.717489e+09  32287.303634         0.063275              0.003459   \n",
      "3F4   3.775394e+08   6736.041105         0.047321              0.002376   \n",
      "77    1.116504e+09  14370.323874         0.074300              0.004516   \n",
      "78    8.125399e+08  11989.456117         0.071617              0.004320   \n",
      "N27   1.538237e+09  15871.247138         0.066071              0.003872   \n",
      "N30   5.677884e+09  30071.026051         0.062543              0.003951   \n",
      "N49   3.089757e+09  23611.936561         0.067554              0.003559   \n",
      "N87   3.090341e+08   7728.983586         0.063474              0.004014   \n",
      "\n",
      "      percentile_95_rel_err       l_infty   l_infty_over  l_infty_under  \n",
      "3C90               0.230289  3.612191e+05  308531.374572  -3.612191e+05  \n",
      "3C94               0.200584  5.394815e+05  521359.264102  -5.394815e+05  \n",
      "3E6                0.195897  7.431564e+05  743156.416113  -7.223639e+05  \n",
      "3F4                0.145021  3.928941e+05  172410.820815  -3.928941e+05  \n",
      "77                 0.214027  3.764652e+05  324043.276942  -3.764652e+05  \n",
      "78                 0.207343  3.568843e+05  356884.329575  -3.533400e+05  \n",
      "N27                0.195792  7.031254e+05  545662.498071  -7.031254e+05  \n",
      "N30                0.189004  1.257437e+06  913932.643720  -1.257437e+06  \n",
      "N49                0.213840  9.846553e+05  655129.777068  -9.846553e+05  \n",
      "N87                0.180885  2.766625e+05  276662.473134  -2.360687e+05  \n",
      "sum error\n",
      "0.6661121146545167\n"
     ]
    },
    {
     "name": "stderr",
     "output_type": "stream",
     "text": [
      "[I 2023-09-05 09:43:28,204] Trial 0 finished with value: 0.6661121146545167 and parameters: {'n_estimators': 283, 'criterion': 'squared_error', 'learning_rate': 0.4611984857942241}. Best is trial 0 with value: 0.6661121146545167.\n"
     ]
    },
    {
     "name": "stdout",
     "output_type": "stream",
     "text": [
      "n_estimators = 529\n",
      "criterion = 'squared_error'\n",
      "learning_rate = 0.23101623916474265\n"
     ]
    },
    {
     "name": "stderr",
     "output_type": "stream",
     "text": [
      "Train across materials:   0%|          | 0/10 [00:00<?, ?it/s]"
     ]
    },
    {
     "name": "stdout",
     "output_type": "stream",
     "text": [
      "['freq', 'temp', 'delta_b', 'integral_part', 'db_bsat_1', 'db_bsat_2', 'db_bsat_3', 'db_bsat_4', 'db_bsat_5', 'db_bsat_6', 'temp_square', 't2']\n"
     ]
    },
    {
     "name": "stderr",
     "output_type": "stream",
     "text": [
      "Train across materials:  10%|█         | 1/10 [03:16<29:30, 196.76s/it]"
     ]
    },
    {
     "name": "stdout",
     "output_type": "stream",
     "text": [
      "['freq', 'temp', 'delta_b', 'integral_part', 'db_bsat_1', 'db_bsat_2', 'db_bsat_3', 'db_bsat_4', 'db_bsat_5', 'db_bsat_6', 'temp_square', 't2']\n"
     ]
    },
    {
     "name": "stderr",
     "output_type": "stream",
     "text": [
      "Train across materials:  20%|██        | 2/10 [10:22<44:12, 331.61s/it]"
     ]
    },
    {
     "name": "stdout",
     "output_type": "stream",
     "text": [
      "['freq', 'temp', 'delta_b', 'integral_part', 'db_bsat_1', 'db_bsat_2', 'db_bsat_3', 'db_bsat_4', 'db_bsat_5', 'db_bsat_6', 'temp_square', 't2']\n"
     ]
    },
    {
     "name": "stderr",
     "output_type": "stream",
     "text": [
      "Train across materials:  30%|███       | 3/10 [10:53<22:40, 194.30s/it]"
     ]
    },
    {
     "name": "stdout",
     "output_type": "stream",
     "text": [
      "['freq', 'temp', 'delta_b', 'integral_part', 'db_bsat_1', 'db_bsat_2', 'db_bsat_3', 'db_bsat_4', 'db_bsat_5', 'db_bsat_6', 'temp_square', 't2']\n"
     ]
    },
    {
     "name": "stderr",
     "output_type": "stream",
     "text": [
      "Train across materials:  40%|████      | 4/10 [11:22<12:54, 129.00s/it]"
     ]
    },
    {
     "name": "stdout",
     "output_type": "stream",
     "text": [
      "['freq', 'temp', 'delta_b', 'integral_part', 'db_bsat_1', 'db_bsat_2', 'db_bsat_3', 'db_bsat_4', 'db_bsat_5', 'db_bsat_6', 'temp_square', 't2']\n"
     ]
    },
    {
     "name": "stderr",
     "output_type": "stream",
     "text": [
      "Train across materials:  50%|█████     | 5/10 [12:09<08:17, 99.48s/it] "
     ]
    },
    {
     "name": "stdout",
     "output_type": "stream",
     "text": [
      "['freq', 'temp', 'delta_b', 'integral_part', 'db_bsat_1', 'db_bsat_2', 'db_bsat_3', 'db_bsat_4', 'db_bsat_5', 'db_bsat_6', 'temp_square', 't2']\n"
     ]
    },
    {
     "name": "stderr",
     "output_type": "stream",
     "text": [
      "Train across materials:  60%|██████    | 6/10 [12:57<05:27, 81.86s/it]"
     ]
    },
    {
     "name": "stdout",
     "output_type": "stream",
     "text": [
      "['freq', 'temp', 'delta_b', 'integral_part', 'db_bsat_1', 'db_bsat_2', 'db_bsat_3', 'db_bsat_4', 'db_bsat_5', 'db_bsat_6', 'temp_square', 't2']\n"
     ]
    },
    {
     "name": "stderr",
     "output_type": "stream",
     "text": [
      "Train across materials:  70%|███████   | 7/10 [13:44<03:31, 70.64s/it]"
     ]
    },
    {
     "name": "stdout",
     "output_type": "stream",
     "text": [
      "['freq', 'temp', 'delta_b', 'integral_part', 'db_bsat_1', 'db_bsat_2', 'db_bsat_3', 'db_bsat_4', 'db_bsat_5', 'db_bsat_6', 'temp_square', 't2']\n"
     ]
    },
    {
     "name": "stderr",
     "output_type": "stream",
     "text": [
      "Train across materials:  80%|████████  | 8/10 [14:22<02:00, 60.13s/it]"
     ]
    },
    {
     "name": "stdout",
     "output_type": "stream",
     "text": [
      "['freq', 'temp', 'delta_b', 'integral_part', 'db_bsat_1', 'db_bsat_2', 'db_bsat_3', 'db_bsat_4', 'db_bsat_5', 'db_bsat_6', 'temp_square', 't2']\n"
     ]
    },
    {
     "name": "stderr",
     "output_type": "stream",
     "text": [
      "Train across materials:  90%|█████████ | 9/10 [14:58<00:52, 52.49s/it]"
     ]
    },
    {
     "name": "stdout",
     "output_type": "stream",
     "text": [
      "['freq', 'temp', 'delta_b', 'integral_part', 'db_bsat_1', 'db_bsat_2', 'db_bsat_3', 'db_bsat_4', 'db_bsat_5', 'db_bsat_6', 'temp_square', 't2']\n"
     ]
    },
    {
     "name": "stderr",
     "output_type": "stream",
     "text": [
      "Train across materials: 100%|██████████| 10/10 [18:42<00:00, 112.27s/it]\n"
     ]
    },
    {
     "name": "stdout",
     "output_type": "stream",
     "text": [
      "XGBRegressor\n",
      "n_estimators = 529\n",
      "learning_rate = 0.23101623916474265\n",
      "[2.3837754e-01 3.6839817e-02 7.0593351e-01 1.6372107e-02 3.8286552e-04\n",
      " 8.3763874e-04 0.0000000e+00 0.0000000e+00 0.0000000e+00 0.0000000e+00\n",
      " 0.0000000e+00 1.2565590e-03]\n",
      "Overall Score\n",
      "               mse           mae  avg-abs-rel-err  percentile_5_rel_err  \\\n",
      "3C90  2.726518e+08   7237.511423         0.067498              0.003843   \n",
      "3C94  6.487588e+08  11144.011492         0.061201              0.004019   \n",
      "3E6   2.910521e+09  24991.920005         0.048529              0.002701   \n",
      "3F4   2.564645e+08   5889.457518         0.040236              0.002331   \n",
      "77    7.097493e+08  11608.374067         0.061877              0.003497   \n",
      "78    4.443441e+08   9138.868613         0.058813              0.003454   \n",
      "N27   8.159484e+08  11949.960641         0.051535              0.003179   \n",
      "N30   4.073811e+09  24151.355334         0.048882              0.002795   \n",
      "N49   1.749761e+09  18440.615133         0.054261              0.002734   \n",
      "N87   2.017103e+08   6343.088388         0.053711              0.003276   \n",
      "\n",
      "      percentile_95_rel_err       l_infty   l_infty_over  l_infty_under  \n",
      "3C90               0.203162  3.621345e+05  225825.895129  -3.621345e+05  \n",
      "3C94               0.174613  3.778419e+05  297377.509987  -3.778419e+05  \n",
      "3E6                0.150762  9.446553e+05  392194.934803  -9.446553e+05  \n",
      "3F4                0.124074  2.838906e+05  210633.170826  -2.838906e+05  \n",
      "77                 0.183733  3.265686e+05  221676.097413  -3.265686e+05  \n",
      "78                 0.171836  2.647143e+05  255510.998734  -2.647143e+05  \n",
      "N27                0.149950  4.939116e+05  249357.475941  -4.939116e+05  \n",
      "N30                0.144259  1.118979e+06  580289.876887  -1.118979e+06  \n",
      "N49                0.172703  7.526252e+05  341900.290868  -7.526252e+05  \n",
      "N87                0.154479  2.647520e+05  173130.096414  -2.647520e+05  \n",
      "sum error\n",
      "0.5465440776696455\n"
     ]
    },
    {
     "name": "stderr",
     "output_type": "stream",
     "text": [
      "[I 2023-09-05 10:02:11,805] Trial 1 finished with value: 0.5465440776696455 and parameters: {'n_estimators': 529, 'criterion': 'squared_error', 'learning_rate': 0.23101623916474265}. Best is trial 1 with value: 0.5465440776696455.\n"
     ]
    },
    {
     "name": "stdout",
     "output_type": "stream",
     "text": [
      "n_estimators = 513\n",
      "criterion = 'squared_error'\n",
      "learning_rate = 0.14522505218104106\n"
     ]
    },
    {
     "name": "stderr",
     "output_type": "stream",
     "text": [
      "Train across materials:   0%|          | 0/10 [00:00<?, ?it/s]"
     ]
    },
    {
     "name": "stdout",
     "output_type": "stream",
     "text": [
      "['freq', 'temp', 'delta_b', 'integral_part', 'db_bsat_1', 'db_bsat_2', 'db_bsat_3', 'db_bsat_4', 'db_bsat_5', 'db_bsat_6', 'temp_square', 't2']\n"
     ]
    },
    {
     "name": "stderr",
     "output_type": "stream",
     "text": [
      "Train across materials:  10%|█         | 1/10 [03:25<30:50, 205.61s/it]"
     ]
    },
    {
     "name": "stdout",
     "output_type": "stream",
     "text": [
      "['freq', 'temp', 'delta_b', 'integral_part', 'db_bsat_1', 'db_bsat_2', 'db_bsat_3', 'db_bsat_4', 'db_bsat_5', 'db_bsat_6', 'temp_square', 't2']\n"
     ]
    },
    {
     "name": "stderr",
     "output_type": "stream",
     "text": [
      "Train across materials:  20%|██        | 2/10 [06:52<27:30, 206.37s/it]"
     ]
    },
    {
     "name": "stdout",
     "output_type": "stream",
     "text": [
      "['freq', 'temp', 'delta_b', 'integral_part', 'db_bsat_1', 'db_bsat_2', 'db_bsat_3', 'db_bsat_4', 'db_bsat_5', 'db_bsat_6', 'temp_square', 't2']\n"
     ]
    },
    {
     "name": "stderr",
     "output_type": "stream",
     "text": [
      "Train across materials:  30%|███       | 3/10 [07:38<15:33, 133.33s/it]"
     ]
    },
    {
     "name": "stdout",
     "output_type": "stream",
     "text": [
      "['freq', 'temp', 'delta_b', 'integral_part', 'db_bsat_1', 'db_bsat_2', 'db_bsat_3', 'db_bsat_4', 'db_bsat_5', 'db_bsat_6', 'temp_square', 't2']\n"
     ]
    },
    {
     "name": "stderr",
     "output_type": "stream",
     "text": [
      "Train across materials:  40%|████      | 4/10 [08:18<09:36, 96.16s/it] "
     ]
    },
    {
     "name": "stdout",
     "output_type": "stream",
     "text": [
      "['freq', 'temp', 'delta_b', 'integral_part', 'db_bsat_1', 'db_bsat_2', 'db_bsat_3', 'db_bsat_4', 'db_bsat_5', 'db_bsat_6', 'temp_square', 't2']\n"
     ]
    },
    {
     "name": "stderr",
     "output_type": "stream",
     "text": [
      "Train across materials:  50%|█████     | 5/10 [09:26<07:09, 85.99s/it]"
     ]
    },
    {
     "name": "stdout",
     "output_type": "stream",
     "text": [
      "['freq', 'temp', 'delta_b', 'integral_part', 'db_bsat_1', 'db_bsat_2', 'db_bsat_3', 'db_bsat_4', 'db_bsat_5', 'db_bsat_6', 'temp_square', 't2']\n"
     ]
    },
    {
     "name": "stderr",
     "output_type": "stream",
     "text": [
      "Train across materials:  60%|██████    | 6/10 [10:27<05:10, 77.70s/it]"
     ]
    },
    {
     "name": "stdout",
     "output_type": "stream",
     "text": [
      "['freq', 'temp', 'delta_b', 'integral_part', 'db_bsat_1', 'db_bsat_2', 'db_bsat_3', 'db_bsat_4', 'db_bsat_5', 'db_bsat_6', 'temp_square', 't2']\n"
     ]
    },
    {
     "name": "stderr",
     "output_type": "stream",
     "text": [
      "Train across materials:  70%|███████   | 7/10 [11:31<03:39, 73.15s/it]"
     ]
    },
    {
     "name": "stdout",
     "output_type": "stream",
     "text": [
      "['freq', 'temp', 'delta_b', 'integral_part', 'db_bsat_1', 'db_bsat_2', 'db_bsat_3', 'db_bsat_4', 'db_bsat_5', 'db_bsat_6', 'temp_square', 't2']\n"
     ]
    },
    {
     "name": "stderr",
     "output_type": "stream",
     "text": [
      "Train across materials:  80%|████████  | 8/10 [12:29<02:16, 68.34s/it]"
     ]
    },
    {
     "name": "stdout",
     "output_type": "stream",
     "text": [
      "['freq', 'temp', 'delta_b', 'integral_part', 'db_bsat_1', 'db_bsat_2', 'db_bsat_3', 'db_bsat_4', 'db_bsat_5', 'db_bsat_6', 'temp_square', 't2']\n"
     ]
    },
    {
     "name": "stderr",
     "output_type": "stream",
     "text": [
      "Train across materials:  90%|█████████ | 9/10 [13:20<01:03, 63.06s/it]"
     ]
    },
    {
     "name": "stdout",
     "output_type": "stream",
     "text": [
      "['freq', 'temp', 'delta_b', 'integral_part', 'db_bsat_1', 'db_bsat_2', 'db_bsat_3', 'db_bsat_4', 'db_bsat_5', 'db_bsat_6', 'temp_square', 't2']\n"
     ]
    },
    {
     "name": "stderr",
     "output_type": "stream",
     "text": [
      "Train across materials: 100%|██████████| 10/10 [16:53<00:00, 101.34s/it]\n"
     ]
    },
    {
     "name": "stdout",
     "output_type": "stream",
     "text": [
      "XGBRegressor\n",
      "n_estimators = 513\n",
      "learning_rate = 0.14522505218104106\n",
      "[0.22773388 0.04101413 0.7153157  0.0159363  0.         0.\n",
      " 0.         0.         0.         0.         0.         0.        ]\n",
      "Overall Score\n",
      "               mse           mae  avg-abs-rel-err  percentile_5_rel_err  \\\n",
      "3C90  2.751059e+08   7295.462680         0.067158              0.003886   \n",
      "3C94  6.377854e+08  10980.569991         0.060020              0.003760   \n",
      "3E6   2.527947e+09  23291.419084         0.045228              0.002712   \n",
      "3F4   2.250660e+08   5389.439103         0.037689              0.001915   \n",
      "77    6.453330e+08  10847.896646         0.058077              0.003343   \n",
      "78    4.381725e+08   8839.829013         0.057541              0.003526   \n",
      "N27   7.447922e+08  11438.951256         0.048921              0.002981   \n",
      "N30   3.876544e+09  22953.150317         0.045843              0.002685   \n",
      "N49   1.917061e+09  18619.374567         0.053745              0.002683   \n",
      "N87   1.954815e+08   6206.094076         0.052275              0.003439   \n",
      "\n",
      "      percentile_95_rel_err       l_infty   l_infty_over  l_infty_under  \n",
      "3C90               0.200038  2.896818e+05  158223.158195  -2.896818e+05  \n",
      "3C94               0.171285  4.193606e+05  237939.311778  -4.193606e+05  \n",
      "3E6                0.139420  7.081170e+05  327343.338014  -7.081170e+05  \n",
      "3F4                0.116448  2.841226e+05  213275.837504  -2.841226e+05  \n",
      "77                 0.169589  5.291037e+05  210457.628237  -5.291037e+05  \n",
      "78                 0.169743  3.706117e+05  201436.050906  -3.706117e+05  \n",
      "N27                0.141977  4.938883e+05  353456.852494  -4.938883e+05  \n",
      "N30                0.137245  1.054016e+06  706744.743105  -1.054016e+06  \n",
      "N49                0.170869  1.034223e+06  399568.678976  -1.034223e+06  \n",
      "N87                0.150565  2.418022e+05  154501.465715  -2.418022e+05  \n",
      "sum error\n",
      "0.5264976470439371\n"
     ]
    },
    {
     "name": "stderr",
     "output_type": "stream",
     "text": [
      "[I 2023-09-05 10:19:06,085] Trial 2 finished with value: 0.5264976470439371 and parameters: {'n_estimators': 513, 'criterion': 'squared_error', 'learning_rate': 0.14522505218104106}. Best is trial 2 with value: 0.5264976470439371.\n"
     ]
    },
    {
     "data": {
      "image/png": "[encoded data removed]",
      "text/plain": [
       "<Figure size 640x480 with 1 Axes>"
      ]
     },
     "metadata": {},
     "output_type": "display_data"
    }
   ],
   "source": [
    "import optuna\n",
    "\n",
    "import sklearn.datasets\n",
    "import sklearn.ensemble\n",
    "import sklearn.model_selection\n",
    "import sklearn.svm\n",
    "\n",
    "# FYI: Objective functions can take additional arguments\n",
    "# (https://optuna.readthedocs.io/en/stable/faq.html#objective-func-additional-args).\n",
    "\n",
    "\n",
    "plt.\n",
    "\n",
    "study = optuna.create_study(direction=\"minimize\")\n",
    "stud\n",
    "y.optimize(objective, n_trials=3, n_jobs=1)\n",
    "#print(study.best_trial)"
   ]
  }
 ],
 "metadata": {
  "kernelspec": {
   "display_name": ".venv",
   "language": "python",
   "name": "python3"
  },
  "language_info": {
   "codemirror_mode": {
    "name": "ipython",
    "version": 3
   },
   "file_extension": ".py",
   "mimetype": "text/x-python",
   "name": "python",
   "nbconvert_exporter": "python",
   "pygments_lexer": "ipython3",
   "version": "3.10.13"
  },
  "orig_nbformat": 4,
  "vscode": {
   "interpreter": {
    "hash": "862f57f7b4a9bcb8e62a2c8b5a26d37db35f8703e11463ebdedd88c83882dd1c"
   }
  }
 },
 "nbformat": 4,
 "nbformat_minor": 2
}
