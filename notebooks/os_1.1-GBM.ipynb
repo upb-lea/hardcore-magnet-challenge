{
 "cells": [
  {
   "attachments": {},
   "cell_type": "markdown",
   "metadata": {},
   "source": [
    "# Ordinary Least Squares on magnet challenge dataset"
   ]
  },
  {
   "cell_type": "code",
   "execution_count": 1,
   "metadata": {},
   "outputs": [],
   "source": [
    "import matplotlib.pyplot as plt\n",
    "import xgboost\n",
    "import matplotlib\n",
    "import numpy as np\n",
    "from sklearn import linear_model\n",
    "from sklearn.linear_model import LinearRegression\n",
    "from sklearn.model_selection import train_test_split\n",
    "import pandas as pd\n",
    "from scipy.interpolate import UnivariateSpline\n",
    "from scipy.integrate import trapezoid\n",
    "\n",
    "from utils.experiments import get_stratified_fold_indices, PROC_SOURCE, form_factor, crest_factor"
   ]
  },
  {
   "cell_type": "code",
   "execution_count": 19,
   "metadata": {},
   "outputs": [],
   "source": [
    "filepath = 'D:\\Dokumente\\Studium\\SHK2\\projects\\magnet_challenge\\magnet-challenge-2023\\data\\input\\processed'\n",
    "material_name = 'ten_materials'\n",
    "ds = pd.read_pickle(f'{filepath}/{material_name}.pkl.gz')\n",
    "\n",
    "ds = ds.drop(columns=[c for c in ds if c.startswith(\"H_t\")])\n",
    "\n",
    "#ds = ds.query('temp == 25')\n",
    "\n",
    "# add the saturation flux density. Data from datasheets.\n",
    "ds.loc[ds['material'] == '3C90', 'b_sat_25'] = 0.47\n",
    "ds.loc[ds['material'] == '3C94', 'b_sat_25'] = 0.47\n",
    "ds.loc[ds['material'] == '3E6', 'b_sat_25'] = 0.46\n",
    "ds.loc[ds['material'] == '3F4', 'b_sat_25'] = 0.41\n",
    "ds.loc[ds['material'] == '77', 'b_sat_25'] = 0.51\n",
    "ds.loc[ds['material'] == '78', 'b_sat_25'] = 0.48\n",
    "ds.loc[ds['material'] == 'N27', 'b_sat_25'] = 0.50\n",
    "ds.loc[ds['material'] == 'N30', 'b_sat_25'] = 0.38\n",
    "ds.loc[ds['material'] == 'N49', 'b_sat_25'] = 0.49\n",
    "ds.loc[ds['material'] == 'N87', 'b_sat_25'] = 0.49\n",
    "\n",
    "#ds['ploss'] = np.log(ds['ploss'])\n",
    "\n",
    "#print(ds)"
   ]
  },
  {
   "attachments": {},
   "cell_type": "markdown",
   "metadata": {},
   "source": [
    "### Adapted Wilhelm example"
   ]
  },
  {
   "cell_type": "code",
   "execution_count": 32,
   "metadata": {},
   "outputs": [],
   "source": [
    "\"\"\" Run linear regression with regularization training\"\"\"\n",
    "import pandas as pd\n",
    "import numpy as np\n",
    "from sklearn.linear_model import LinearRegression, Ridge\n",
    "from sklearn.ensemble import RandomForestRegressor, HistGradientBoostingRegressor, GradientBoostingRegressor, VotingRegressor, ExtraTreesRegressor\n",
    "from tqdm import tqdm\n",
    "from pprint import pprint\n",
    "from utils.experiments import get_stratified_fold_indices, PROC_SOURCE\n",
    "from utils.metrics import calculate_metrics\n",
    "\n",
    "pd.set_option(\"display.max_columns\", None)\n",
    "\n",
    "\n",
    "def gbm():\n",
    "\n",
    "    # n_estimators = 14\n",
    "    # #print(f'{n_estimators = }')\n",
    "    # criterion = trial.suggest_categorical('criterion', ['absolute_error', 'squared_error'])\n",
    "    # print(f\"{criterion = }\")\n",
    "    cols=[]\n",
    "    feature_imp_sum= np.zeros(16)\n",
    "    exp_log = {}\n",
    "    for material_lbl, mat_df in tqdm(ds.groupby(\"material\"), desc=\"Train across materials\"):\n",
    "        full_b = mat_df.loc[:, [f\"B_t_{k}\" for k in range(1024)]].to_numpy()\n",
    "        dbdt = full_b[:, 1:] - full_b[:, :-1]\n",
    "        mat_df = mat_df.reset_index(drop=True)\n",
    "\n",
    "        x_vec = np.linspace(0, 1023, 1024)\n",
    "        b_vec = []\n",
    "        for value in x_vec:\n",
    "            b_vec.append(f'B_t_{int(value)}')\n",
    "        mat_df[\"b\"] = mat_df[b_vec].values.tolist()\n",
    "        x_vec = None\n",
    "        b_vec = None\n",
    "        mat_df['delta_b'] = mat_df['b'].map(lambda x: np.max(x) - np.min(x))\n",
    "\n",
    "        # figure out integral_part \n",
    "        mat_df[\"time_s\"] = mat_df[\"freq\"].map(lambda x: np.linspace(0, 1/x, 1024))\n",
    "\n",
    "        # derivation\n",
    "        # according to https://im-coder.com/zweite-ableitung-in-python-scipy-numpy-pandas.html\n",
    "        mat_df[\"fitted_function\"] = mat_df.apply(lambda x: UnivariateSpline(x[\"time_s\"], x[\"b\"], s=0, k=4), axis=1)\n",
    "        mat_df[\"amplitude_2nd_derivation\"] = mat_df[\"fitted_function\"].apply(lambda x: x.derivative(n=2))\n",
    "        mat_df[\"integrated_function\"] = mat_df.apply(lambda x: trapezoid(np.abs(x[\"amplitude_2nd_derivation\"](x[\"time_s\"])), x[\"time_s\"]), axis=1)     \n",
    "\n",
    "        mat_df[\"integral_part\"] = mat_df[\"integrated_function\"] / mat_df[\"delta_b\"]\n",
    "        # cross validation 'kfold'\n",
    "        kfold_lbls = get_stratified_fold_indices(mat_df, 4)\n",
    "        mat_df_proc = mat_df.assign(\n",
    "            kfold=kfold_lbls,\n",
    "            log_freq= np.log(mat_df.loc[:,'freq']),\n",
    "            #b_fft=np.fft.fft(full_b),\n",
    "            b_fft_mean=np.mean(np.abs(np.fft.fft(full_b)),axis=1),\n",
    "            b_peak2peak=full_b.max(axis=1) - full_b.min(axis=1),\n",
    "            log_peak2peak = np.log(full_b.max(axis=1) - full_b.min(axis=1)),\n",
    "            #max_dbdt=np.max(dbdt, axis=1),\n",
    "            #min_dbdt=np.min(dbdt, axis=1),\n",
    "            mean_abs_dbdt=np.mean(np.abs(dbdt), axis=1),\n",
    "            log_mean_abs_dbdt=np.log(np.mean(np.abs(dbdt), axis=1)),\n",
    "            #crest_fac=crest_factor(full_b),\n",
    "            form_fac=form_factor(full_b),\n",
    "            # integral_part=mat_df['integral_part'],\n",
    "            #delta_b=mat_df['delta_b'],\n",
    "            #b_sat=mat_df['b_sat_25'],\n",
    "            db_bsat_1 = mat_df['delta_b'] / mat_df['b_sat_25'],\n",
    "            db_bsat_2 = (mat_df['delta_b'] / mat_df['b_sat_25']) ** 2,\n",
    "            db_bsat_3 = (mat_df['delta_b'] / mat_df['b_sat_25']) ** 3,\n",
    "            #db_bsat_4 = (mat_df['delta_b'] / mat_df['b_sat_25']) ** 4,\n",
    "            #db_bsat_5 = (mat_df['delta_b'] / mat_df['b_sat_25']) ** 5,\n",
    "            #db_bsat_6 = (mat_df['delta_b'] / mat_df['b_sat_25']) ** 6,\n",
    "            #t0 = 1,\n",
    "            #t1 = 0,\n",
    "            t2 = (mat_df['integral_part'] ** (-1)) / 2,\n",
    "            t3 = -(mat_df['integral_part'] ** (-2)) / 6,\n",
    "            t4 = ( 3 * mat_df['integral_part'] ** (-2) + 2 * mat_df['integral_part'] ** (-3)) / 24\n",
    "            # more features imaginable (count of spikes e.g.)\n",
    "        ).drop(\n",
    "            columns=[c for c in mat_df if c.startswith(\"B_t_\")] + [\"material\"] + ['b'] + ['time_s'] + ['fitted_function'] +['amplitude_2nd_derivation'] + ['integrated_function'] + ['b_sat_25'] +['delta_b']\n",
    "        )  # drop B curve\n",
    "        print([c for c in mat_df_proc])\n",
    "        # training result container\n",
    "        results_df = mat_df_proc.loc[:, [\"ploss\", \"kfold\"]].assign(pred=0)\n",
    "        x_cols = [c for c in mat_df_proc if c not in [\"ploss\", \"kfold\"]]\n",
    "        print(x_cols)\n",
    "        cols=x_cols\n",
    "        for kfold_lbl, test_fold_df in mat_df_proc.groupby(\"kfold\"):\n",
    "            train_fold_df = (\n",
    "                mat_df_proc.query(\"kfold != @kfold_lbl\")\n",
    "                .reset_index(drop=True)\n",
    "                .drop(columns=\"kfold\")\n",
    "            )\n",
    "            assert len(train_fold_df) > 0, \"empty dataframe error\"\n",
    "            y = train_fold_df.pop(\"ploss\")\n",
    "            X = train_fold_df.loc[:, x_cols]\n",
    "\n",
    "            mdl = xgboost.XGBRegressor(max_depth=11, gamma = 0.05822,learning_rate=0.1, n_estimators=800, subsample=0.89965, colsample_bytree=0.76261, objective='reg:squarederror')\n",
    "            mdl.fit(X, y)\n",
    "            pred = mdl.predict(test_fold_df.loc[:, x_cols])\n",
    "            results_df.loc[results_df.kfold == kfold_lbl, \"pred\"] = pred\n",
    "            feature_imp_sum += mdl.feature_importances_\n",
    "\n",
    "        # book keeping\n",
    "        exp_log[material_lbl] = calculate_metrics(\n",
    "            results_df.loc[:, \"pred\"], results_df.loc[:, \"ploss\"]\n",
    "        )\n",
    "    print(\"Overall Score\")\n",
    "    print(pd.DataFrame(exp_log).T)\n",
    "    print(np.mean(pd.DataFrame(exp_log).T.loc[:,\"avg-abs-rel-err\"].to_numpy()))\n",
    "    plt.bar(range(len(feature_imp_sum)), feature_imp_sum)\n",
    "    plt.xticks(range(len(feature_imp_sum)), cols, rotation='vertical')\n",
    "    plt.show()\n",
    "\n",
    "    return "
   ]
  },
  {
   "cell_type": "markdown",
   "metadata": {},
   "source": [
    "Ohne = 0.04792515549639227\n",
    "0.04518229994204276"
   ]
  },
  {
   "cell_type": "code",
   "execution_count": 33,
   "metadata": {},
   "outputs": [
    {
     "name": "stderr",
     "output_type": "stream",
     "text": [
      "Train across materials:   0%|          | 0/10 [00:00<?, ?it/s]"
     ]
    },
    {
     "name": "stdout",
     "output_type": "stream",
     "text": [
      "['freq', 'temp', 'ploss', 'integral_part', 'kfold', 'log_freq', 'b_fft_mean', 'b_peak2peak', 'log_peak2peak', 'mean_abs_dbdt', 'log_mean_abs_dbdt', 'form_fac', 'db_bsat_1', 'db_bsat_2', 'db_bsat_3', 't2', 't3', 't4']\n",
      "['freq', 'temp', 'integral_part', 'log_freq', 'b_fft_mean', 'b_peak2peak', 'log_peak2peak', 'mean_abs_dbdt', 'log_mean_abs_dbdt', 'form_fac', 'db_bsat_1', 'db_bsat_2', 'db_bsat_3', 't2', 't3', 't4']\n"
     ]
    },
    {
     "name": "stderr",
     "output_type": "stream",
     "text": [
      "Train across materials:  10%|█         | 1/10 [02:19<20:57, 139.67s/it]"
     ]
    },
    {
     "name": "stdout",
     "output_type": "stream",
     "text": [
      "['freq', 'temp', 'ploss', 'integral_part', 'kfold', 'log_freq', 'b_fft_mean', 'b_peak2peak', 'log_peak2peak', 'mean_abs_dbdt', 'log_mean_abs_dbdt', 'form_fac', 'db_bsat_1', 'db_bsat_2', 'db_bsat_3', 't2', 't3', 't4']\n",
      "['freq', 'temp', 'integral_part', 'log_freq', 'b_fft_mean', 'b_peak2peak', 'log_peak2peak', 'mean_abs_dbdt', 'log_mean_abs_dbdt', 'form_fac', 'db_bsat_1', 'db_bsat_2', 'db_bsat_3', 't2', 't3', 't4']\n"
     ]
    },
    {
     "name": "stderr",
     "output_type": "stream",
     "text": [
      "Train across materials:  20%|██        | 2/10 [04:21<17:12, 129.03s/it]"
     ]
    },
    {
     "name": "stdout",
     "output_type": "stream",
     "text": [
      "['freq', 'temp', 'ploss', 'integral_part', 'kfold', 'log_freq', 'b_fft_mean', 'b_peak2peak', 'log_peak2peak', 'mean_abs_dbdt', 'log_mean_abs_dbdt', 'form_fac', 'db_bsat_1', 'db_bsat_2', 'db_bsat_3', 't2', 't3', 't4']\n",
      "['freq', 'temp', 'integral_part', 'log_freq', 'b_fft_mean', 'b_peak2peak', 'log_peak2peak', 'mean_abs_dbdt', 'log_mean_abs_dbdt', 'form_fac', 'db_bsat_1', 'db_bsat_2', 'db_bsat_3', 't2', 't3', 't4']\n"
     ]
    },
    {
     "name": "stderr",
     "output_type": "stream",
     "text": [
      "Train across materials:  30%|███       | 3/10 [04:57<10:05, 86.56s/it] "
     ]
    },
    {
     "name": "stdout",
     "output_type": "stream",
     "text": [
      "['freq', 'temp', 'ploss', 'integral_part', 'kfold', 'log_freq', 'b_fft_mean', 'b_peak2peak', 'log_peak2peak', 'mean_abs_dbdt', 'log_mean_abs_dbdt', 'form_fac', 'db_bsat_1', 'db_bsat_2', 'db_bsat_3', 't2', 't3', 't4']\n",
      "['freq', 'temp', 'integral_part', 'log_freq', 'b_fft_mean', 'b_peak2peak', 'log_peak2peak', 'mean_abs_dbdt', 'log_mean_abs_dbdt', 'form_fac', 'db_bsat_1', 'db_bsat_2', 'db_bsat_3', 't2', 't3', 't4']\n"
     ]
    },
    {
     "name": "stderr",
     "output_type": "stream",
     "text": [
      "Train across materials:  40%|████      | 4/10 [05:32<06:37, 66.17s/it]"
     ]
    },
    {
     "name": "stdout",
     "output_type": "stream",
     "text": [
      "['freq', 'temp', 'ploss', 'integral_part', 'kfold', 'log_freq', 'b_fft_mean', 'b_peak2peak', 'log_peak2peak', 'mean_abs_dbdt', 'log_mean_abs_dbdt', 'form_fac', 'db_bsat_1', 'db_bsat_2', 'db_bsat_3', 't2', 't3', 't4']\n",
      "['freq', 'temp', 'integral_part', 'log_freq', 'b_fft_mean', 'b_peak2peak', 'log_peak2peak', 'mean_abs_dbdt', 'log_mean_abs_dbdt', 'form_fac', 'db_bsat_1', 'db_bsat_2', 'db_bsat_3', 't2', 't3', 't4']\n"
     ]
    },
    {
     "name": "stderr",
     "output_type": "stream",
     "text": [
      "Train across materials:  50%|█████     | 5/10 [06:22<05:02, 60.40s/it]"
     ]
    },
    {
     "name": "stdout",
     "output_type": "stream",
     "text": [
      "['freq', 'temp', 'ploss', 'integral_part', 'kfold', 'log_freq', 'b_fft_mean', 'b_peak2peak', 'log_peak2peak', 'mean_abs_dbdt', 'log_mean_abs_dbdt', 'form_fac', 'db_bsat_1', 'db_bsat_2', 'db_bsat_3', 't2', 't3', 't4']\n",
      "['freq', 'temp', 'integral_part', 'log_freq', 'b_fft_mean', 'b_peak2peak', 'log_peak2peak', 'mean_abs_dbdt', 'log_mean_abs_dbdt', 'form_fac', 'db_bsat_1', 'db_bsat_2', 'db_bsat_3', 't2', 't3', 't4']\n"
     ]
    },
    {
     "name": "stderr",
     "output_type": "stream",
     "text": [
      "Train across materials:  60%|██████    | 6/10 [07:12<03:47, 56.86s/it]"
     ]
    },
    {
     "name": "stdout",
     "output_type": "stream",
     "text": [
      "['freq', 'temp', 'ploss', 'integral_part', 'kfold', 'log_freq', 'b_fft_mean', 'b_peak2peak', 'log_peak2peak', 'mean_abs_dbdt', 'log_mean_abs_dbdt', 'form_fac', 'db_bsat_1', 'db_bsat_2', 'db_bsat_3', 't2', 't3', 't4']\n",
      "['freq', 'temp', 'integral_part', 'log_freq', 'b_fft_mean', 'b_peak2peak', 'log_peak2peak', 'mean_abs_dbdt', 'log_mean_abs_dbdt', 'form_fac', 'db_bsat_1', 'db_bsat_2', 'db_bsat_3', 't2', 't3', 't4']\n"
     ]
    },
    {
     "name": "stderr",
     "output_type": "stream",
     "text": [
      "Train across materials:  70%|███████   | 7/10 [08:01<02:43, 54.36s/it]"
     ]
    },
    {
     "name": "stdout",
     "output_type": "stream",
     "text": [
      "['freq', 'temp', 'ploss', 'integral_part', 'kfold', 'log_freq', 'b_fft_mean', 'b_peak2peak', 'log_peak2peak', 'mean_abs_dbdt', 'log_mean_abs_dbdt', 'form_fac', 'db_bsat_1', 'db_bsat_2', 'db_bsat_3', 't2', 't3', 't4']\n",
      "['freq', 'temp', 'integral_part', 'log_freq', 'b_fft_mean', 'b_peak2peak', 'log_peak2peak', 'mean_abs_dbdt', 'log_mean_abs_dbdt', 'form_fac', 'db_bsat_1', 'db_bsat_2', 'db_bsat_3', 't2', 't3', 't4']\n"
     ]
    },
    {
     "name": "stderr",
     "output_type": "stream",
     "text": [
      "Train across materials:  80%|████████  | 8/10 [08:43<01:40, 50.41s/it]"
     ]
    },
    {
     "name": "stdout",
     "output_type": "stream",
     "text": [
      "['freq', 'temp', 'ploss', 'integral_part', 'kfold', 'log_freq', 'b_fft_mean', 'b_peak2peak', 'log_peak2peak', 'mean_abs_dbdt', 'log_mean_abs_dbdt', 'form_fac', 'db_bsat_1', 'db_bsat_2', 'db_bsat_3', 't2', 't3', 't4']\n",
      "['freq', 'temp', 'integral_part', 'log_freq', 'b_fft_mean', 'b_peak2peak', 'log_peak2peak', 'mean_abs_dbdt', 'log_mean_abs_dbdt', 'form_fac', 'db_bsat_1', 'db_bsat_2', 'db_bsat_3', 't2', 't3', 't4']\n"
     ]
    },
    {
     "name": "stderr",
     "output_type": "stream",
     "text": [
      "Train across materials:  90%|█████████ | 9/10 [09:22<00:46, 46.93s/it]"
     ]
    },
    {
     "name": "stdout",
     "output_type": "stream",
     "text": [
      "['freq', 'temp', 'ploss', 'integral_part', 'kfold', 'log_freq', 'b_fft_mean', 'b_peak2peak', 'log_peak2peak', 'mean_abs_dbdt', 'log_mean_abs_dbdt', 'form_fac', 'db_bsat_1', 'db_bsat_2', 'db_bsat_3', 't2', 't3', 't4']\n",
      "['freq', 'temp', 'integral_part', 'log_freq', 'b_fft_mean', 'b_peak2peak', 'log_peak2peak', 'mean_abs_dbdt', 'log_mean_abs_dbdt', 'form_fac', 'db_bsat_1', 'db_bsat_2', 'db_bsat_3', 't2', 't3', 't4']\n"
     ]
    },
    {
     "name": "stderr",
     "output_type": "stream",
     "text": [
      "Train across materials: 100%|██████████| 10/10 [11:35<00:00, 69.58s/it]"
     ]
    },
    {
     "name": "stdout",
     "output_type": "stream",
     "text": [
      "Overall Score\n",
      "               mse           mae  avg-abs-rel-err  percentile_5_rel_err   \n",
      "3C90  1.592648e+08   4271.452796         0.032456              0.001887  \\\n",
      "3C94  4.278040e+08   7456.734927         0.033573              0.002053   \n",
      "3E6   2.629724e+09  21290.098455         0.042457              0.001858   \n",
      "3F4   3.353484e+08   5943.468005         0.035525              0.002156   \n",
      "77    7.718482e+08   9837.672054         0.042496              0.002043   \n",
      "78    5.673908e+08   8188.712220         0.038005              0.001946   \n",
      "N27   9.115124e+08  10747.472666         0.038080              0.002065   \n",
      "N30   4.249093e+09  21992.530153         0.041354              0.002159   \n",
      "N49   3.256070e+09  20618.401577         0.048082              0.002485   \n",
      "N87   1.346117e+08   4230.212612         0.030677              0.001888   \n",
      "\n",
      "      percentile_95_rel_err       l_infty   l_infty_over  l_infty_under  \n",
      "3C90               0.095970  3.818832e+05  143916.655269  -3.818832e+05  \n",
      "3C94               0.096549  3.792199e+05  274349.508377  -3.792199e+05  \n",
      "3E6                0.141459  8.920396e+05  538347.633088  -8.920396e+05  \n",
      "3F4                0.111660  3.158907e+05  212498.340197  -3.158907e+05  \n",
      "77                 0.134643  5.263204e+05  292698.810839  -5.263204e+05  \n",
      "78                 0.118527  4.521329e+05  363971.556323  -4.521329e+05  \n",
      "N27                0.119502  5.887221e+05  474227.745909  -5.887221e+05  \n",
      "N30                0.125483  1.618884e+06  760295.408187  -1.618884e+06  \n",
      "N49                0.147979  1.220811e+06  627722.959032  -1.220811e+06  \n",
      "N87                0.087311  3.009099e+05  159834.084314  -3.009099e+05  \n",
      "0.03827038843660711\n"
     ]
    },
    {
     "name": "stderr",
     "output_type": "stream",
     "text": [
      "\n"
     ]
    },
    {
     "data": {
      "image/png": "[encoded data removed]",
      "text/plain": [
       "<Figure size 640x480 with 1 Axes>"
      ]
     },
     "metadata": {},
     "output_type": "display_data"
    }
   ],
   "source": [
    "gbm()\n"
   ]
  },
  {
   "attachments": {},
   "cell_type": "markdown",
   "metadata": {},
   "source": [
    "### Run objective function single"
   ]
  },
  {
   "cell_type": "code",
   "execution_count": 5,
   "metadata": {},
   "outputs": [],
   "source": [
    "# objective()\n",
    "0.045237294288706584"
   ]
  },
  {
   "attachments": {},
   "cell_type": "markdown",
   "metadata": {},
   "source": [
    "### Run objective function in a hyperparameter optimization loop"
   ]
  },
  {
   "cell_type": "code",
   "execution_count": 10,
   "metadata": {},
   "outputs": [
    {
     "name": "stderr",
     "output_type": "stream",
     "text": [
      "c:\\Users\\Oli\\AppData\\Local\\Programs\\Python\\Python311\\Lib\\site-packages\\tqdm\\auto.py:21: TqdmWarning: IProgress not found. Please update jupyter and ipywidgets. See https://ipywidgets.readthedocs.io/en/stable/user_install.html\n",
      "  from .autonotebook import tqdm as notebook_tqdm\n",
      "[I 2023-08-17 08:59:20,692] A new study created in memory with name: no-name-b3e84898-41fa-4aec-b3ab-fd8d2940f151\n"
     ]
    }
   ],
   "source": [
    "import optuna\n",
    "\n",
    "import sklearn.datasets\n",
    "import sklearn.ensemble\n",
    "import sklearn.model_selection\n",
    "import sklearn.svm\n",
    "\n",
    "\n",
    "# FYI: Objective functions can take additional arguments\n",
    "# (https://optuna.readthedocs.io/en/stable/faq.html#objective-func-additional-args).\n",
    "\n",
    "\n",
    "\n",
    "study = optuna.create_study(direction=\"minimize\")\n",
    "study.optimize(objective, n_trials=5, n_jobs=3)\n",
    "#print(study.best_trial)"
   ]
  }
 ],
 "metadata": {
  "kernelspec": {
   "display_name": ".venv",
   "language": "python",
   "name": "python3"
  },
  "language_info": {
   "codemirror_mode": {
    "name": "ipython",
    "version": 3
   },
   "file_extension": ".py",
   "mimetype": "text/x-python",
   "name": "python",
   "nbconvert_exporter": "python",
   "pygments_lexer": "ipython3",
   "version": "3.11.3"
  },
  "orig_nbformat": 4,
  "vscode": {
   "interpreter": {
    "hash": "862f57f7b4a9bcb8e62a2c8b5a26d37db35f8703e11463ebdedd88c83882dd1c"
   }
  }
 },
 "nbformat": 4,
 "nbformat_minor": 2
}
