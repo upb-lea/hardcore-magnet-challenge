{
 "cells": [
  {
   "attachments": {},
   "cell_type": "markdown",
   "metadata": {},
   "source": [
    "# Ordinary Least Squares on magnet challenge dataset"
   ]
  },
  {
   "cell_type": "code",
   "execution_count": 1,
   "metadata": {},
   "outputs": [],
   "source": [
    "import pandas as pd\n",
    "import numpy as np\n",
    "import xgboost\n",
    "from sklearn.linear_model import LinearRegression, Ridge\n",
    "from tqdm import tqdm\n",
    "from pprint import pprint\n",
    "from utils.experiments import get_bh_integral_from_two_mats,get_stratified_fold_indices, PROC_SOURCE, form_factor, crest_factor\n",
    "from utils.metrics import calculate_metrics\n",
    "import matplotlib.pyplot as plt\n",
    "\n",
    "from scipy.interpolate import UnivariateSpline\n",
    "from scipy.integrate import trapezoid\n",
    "from utils.metrics import calculate_metrics"
   ]
  },
  {
   "cell_type": "code",
   "execution_count": 2,
   "metadata": {},
   "outputs": [],
   "source": [
    "pd.set_option(\"display.max_columns\", None)\n",
    "\n",
    "INCLUDE_H_PRED = (\n",
    "    PROC_SOURCE.parent.parent\n",
    "    / \"output\"\n",
    "    / \"CNN_pred.csv\"\n",
    ")\n"
   ]
  },
  {
   "cell_type": "code",
   "execution_count": 3,
   "metadata": {},
   "outputs": [],
   "source": [
    "def objective(trial):\n",
    "\n",
    "    n_estimators=trial.suggest_int('n_estimators', 200, 900)\n",
    "    print(f'{n_estimators = }')\n",
    "    max_depth=trial.suggest_int('max_depth', 10, 14)\n",
    "    print(f'{max_depth = }')\n",
    "    learning_rate = trial.suggest_float('learning_rate', 0.07, 0.3)\n",
    "    print(f\"{learning_rate = }\")\n",
    "    \n",
    "    ds = pd.read_pickle(PROC_SOURCE / \"ten_materials.pkl.gz\")\n",
    "    if INCLUDE_H_PRED is not None:\n",
    "        h_preds = pd.read_csv(INCLUDE_H_PRED, dtype={\"material\": str})\n",
    "        orig_p_score_d = {}\n",
    "    #ds = pd.read_pickle(PROC_SOURCE / \"ten_materials.pkl.gz\")\n",
    "    # drop H curve, we only take power loss as target\n",
    "    ds = ds.drop(columns=[c for c in ds if c.startswith(\"H_t\")])\n",
    "    exp_log = {}\n",
    "    cols=[]\n",
    "    feature_imp_sum= np.zeros(11)\n",
    "    for material_lbl, mat_df in tqdm(\n",
    "        ds.groupby(\"material\"), desc=\"Train across materials\"\n",
    "    ):\n",
    "        full_b = mat_df.loc[:, [f\"B_t_{k}\" for k in range(1024)]].to_numpy()\n",
    "        dbdt = full_b[:, 1:] - full_b[:, :-1]\n",
    "        mat_df = mat_df.reset_index(drop=True)\n",
    "        \n",
    "        kfold_lbls = get_stratified_fold_indices(mat_df, 4)\n",
    "        mat_df_proc = mat_df.assign(\n",
    "            kfold=kfold_lbls,\n",
    "            log_freq= np.log(mat_df.loc[:,'freq']),\n",
    "            #b_fft=np.fft.fft(full_b),\n",
    "            b_fft_mean=np.mean(np.abs(np.fft.fft(full_b)),axis=1),\n",
    "            #b_peak2peak=full_b.max(axis=1) - full_b.min(axis=1),\n",
    "            log_peak2peak = np.log(full_b.max(axis=1) - full_b.min(axis=1)),\n",
    "            #max_dbdt=np.max(dbdt, axis=1),\n",
    "            #min_dbdt=np.min(dbdt, axis=1),\n",
    "            log_mean_abs_dbdt=np.log(np.mean(np.abs(dbdt), axis=1)),\n",
    "            #crest_fac=crest_factor(full_b),\n",
    "            form_fac=form_factor(full_b),\n",
    "            # median_dbdt=np.median(dbdt, axis=1)\n",
    "            # more features imaginable (count of spikes e.g.)\n",
    "        ).drop(\n",
    "            columns=[c for c in mat_df if c.startswith(\"B_t_\")] + [\"material\"]\n",
    "        )  # drop B curve\n",
    "        \n",
    "        if INCLUDE_H_PRED is not None:\n",
    "            full_h = (\n",
    "                h_preds.query(\"material == @material_lbl\")\n",
    "                .reset_index(drop=True)\n",
    "                .drop(columns=[\"material\"])\n",
    "                .to_numpy()\n",
    "            )\n",
    "            dhdt = full_h[:, 1:] - full_h[:, :-1]\n",
    "            p_derived_from_h = get_bh_integral_from_two_mats(\n",
    "                mat_df_proc.freq, full_b[:, :: 1024 // full_h.shape[1]], full_h\n",
    "            )\n",
    "            log_p_derived_from_h = np.log(p_derived_from_h)\n",
    "            mat_df_proc = mat_df_proc.assign(\n",
    "                # h_peak2peak=full_h.max(axis=1) - full_h.min(axis=1),\n",
    "                log_h_peak2peak=np.log(full_h.max(axis=1) - full_h.min(axis=1)),\n",
    "                # max_dhdt=np.max(dhdt, axis=1),\n",
    "                # min_dhdt=np.min(dhdt, axis=1),\n",
    "                log_mean_abs_dhdt=np.log(np.mean(np.abs(dhdt), axis=1)),\n",
    "                p_derived_from_h=p_derived_from_h,\n",
    "                log_p_derived_from_h=log_p_derived_from_h,\n",
    "            )\n",
    "            orig_p_score_d[material_lbl] = calculate_metrics(\n",
    "                p_derived_from_h, mat_df_proc.ploss\n",
    "            )\n",
    "\n",
    "\n",
    "        # training result container\n",
    "        results_df = mat_df_proc.loc[:, [\"ploss\", \"kfold\"]].assign(pred=0)\n",
    "        x_cols = [c for c in mat_df_proc if c not in [\"ploss\", \"kfold\"]]\n",
    "        print(x_cols)\n",
    "        cols= x_cols\n",
    "        for kfold_lbl, test_fold_df in mat_df_proc.groupby(\"kfold\"):\n",
    "            train_fold_df = (\n",
    "                mat_df_proc.query(\"kfold != @kfold_lbl\")\n",
    "                .reset_index(drop=True)\n",
    "                .drop(columns=\"kfold\")\n",
    "            )\n",
    "            assert len(train_fold_df) > 0, \"empty dataframe error\"\n",
    "            #y = np.log(train_fold_df.pop(\"ploss\"))\n",
    "            y = train_fold_df.pop(\"ploss\").to_numpy() - train_fold_df.loc[:,'p_derived_from_h'].to_numpy()\n",
    "            X = train_fold_df.loc[:, x_cols].to_numpy()\n",
    "\n",
    "            gbm = xgboost.XGBRegressor(max_depth=12, gamma = 0.05822,learning_rate=learning_rate, n_estimators=n_estimators, subsample=1, colsample_bytree=1, objective='reg:squarederror')\n",
    "            gbm.fit(X, y)\n",
    "            #pred = np.exp(gbm.predict(test_fold_df.loc[:, x_cols]))\n",
    "            pred= gbm.predict(test_fold_df.loc[:, x_cols])\n",
    "            results_df.loc[results_df.kfold == kfold_lbl, \"pred\"] = pred + test_fold_df.loc[:,'p_derived_from_h']\n",
    "            feature_imp_sum += gbm.feature_importances_\n",
    "            # plot\n",
    "\n",
    "        # book keeping\n",
    "        # print(feature_imp_sum)\n",
    "        # plot\n",
    "        \n",
    "\n",
    "        exp_log[material_lbl] = calculate_metrics(\n",
    "            results_df.loc[:, \"pred\"], results_df.loc[:, \"ploss\"]\n",
    "        )\n",
    "    # print(\"Overall Score\")\n",
    "    # if INCLUDE_H_PRED:\n",
    "    #     exp_result_df = pd.concat(\n",
    "    #             [\n",
    "    #                 pd.DataFrame(exp_log)\n",
    "    #                 .T.loc[:, [\"avg-abs-rel-err\"]]\n",
    "    #                 .rename(columns={\"avg-abs-rel-err\": \"postprocessing_score\"}),\n",
    "    #                 pd.DataFrame(orig_p_score_d)\n",
    "    #                 .T.loc[:, [\"avg-abs-rel-err\"]]\n",
    "    #                 .rename(columns={\"avg-abs-rel-err\": \"orig_p_score\"}),\n",
    "    #             ],\n",
    "    #             axis=1,\n",
    "    #         )\n",
    "    #     print(exp_result_df)\n",
    "    #     print(\"Mean:\")\n",
    "    #     print(exp_result_df.mean(axis=0))\n",
    "    #     plt.bar(range(len(feature_imp_sum)), feature_imp_sum)\n",
    "    #     plt.xticks(range(len(feature_imp_sum)), cols, rotation='vertical')\n",
    "    #     plt.show()\n",
    "    #     print(feature_imp_sum)\n",
    "    # else:\n",
    "    #     print(pd.DataFrame(exp_log).T.loc[:, [\"avg-abs-rel-err\"]])\n",
    "    #print(pd.DataFrame(exp_log).T)\n",
    "    #print(np.mean(pd.DataFrame(exp_log).T.loc[:,\"avg-abs-rel-err\"].to_numpy()))\n",
    "    #plt.bar(range(len(feature_imp_sum)), feature_imp_sum)\n",
    "    #plt.xticks(range(len(feature_imp_sum)), cols, rotation='horizontal')\n",
    "    #plt.show()\n",
    "    return np.mean(pd.DataFrame(exp_log).T.loc[:,\"avg-abs-rel-err\"].to_numpy())\n"
   ]
  },
  {
   "cell_type": "markdown",
   "metadata": {},
   "source": [
    "Ohne = 0.04792515549639227\n",
    "0.04518229994204276"
   ]
  },
  {
   "cell_type": "code",
   "execution_count": 5,
   "metadata": {},
   "outputs": [
    {
     "name": "stderr",
     "output_type": "stream",
     "text": [
      "c:\\Users\\Oli\\AppData\\Local\\Programs\\Python\\Python311\\Lib\\site-packages\\tqdm\\auto.py:21: TqdmWarning: IProgress not found. Please update jupyter and ipywidgets. See https://ipywidgets.readthedocs.io/en/stable/user_install.html\n",
      "  from .autonotebook import tqdm as notebook_tqdm\n",
      "[I 2023-10-04 13:30:45,034] A new study created in memory with name: no-name-a346926e-55b4-4ba3-bf67-5964859c1f42\n"
     ]
    },
    {
     "name": "stdout",
     "output_type": "stream",
     "text": [
      "n_estimators = 433n_estimators = 328\n",
      "max_depth = 10\n",
      "learning_rate = 0.2409674420082639\n",
      "\n",
      "max_depth = 12\n",
      "n_estimators = 344\n",
      "max_depth = 10\n",
      "learning_rate = 0.2273426278850372\n",
      "learning_rate = 0.22461011802371184\n"
     ]
    },
    {
     "name": "stderr",
     "output_type": "stream",
     "text": [
      "Train across materials:   0%|          | 0/10 [00:00<?, ?it/s]\n",
      "\u001b[A"
     ]
    },
    {
     "name": "stdout",
     "output_type": "stream",
     "text": [
      "['freq', 'temp', 'log_freq', 'b_fft_mean', 'log_peak2peak', 'log_mean_abs_dbdt', 'form_fac', 'log_h_peak2peak', 'log_mean_abs_dhdt', 'p_derived_from_h', 'log_p_derived_from_h']\n",
      "['freq', 'temp', 'log_freq', 'b_fft_mean', 'log_peak2peak', 'log_mean_abs_dbdt', 'form_fac', 'log_h_peak2peak', 'log_mean_abs_dhdt', 'p_derived_from_h', 'log_p_derived_from_h']\n",
      "['freq', 'temp', 'log_freq', 'b_fft_mean', 'log_peak2peak', 'log_mean_abs_dbdt', 'form_fac', 'log_h_peak2peak', 'log_mean_abs_dhdt', 'p_derived_from_h', 'log_p_derived_from_h']\n"
     ]
    },
    {
     "name": "stderr",
     "output_type": "stream",
     "text": [
      "Train across materials:  10%|█         | 1/10 [00:53<07:57, 53.00s/it]"
     ]
    },
    {
     "name": "stdout",
     "output_type": "stream",
     "text": [
      "['freq', 'temp', 'log_freq', 'b_fft_mean', 'log_peak2peak', 'log_mean_abs_dbdt', 'form_fac', 'log_h_peak2peak', 'log_mean_abs_dhdt', 'p_derived_from_h', 'log_p_derived_from_h']\n",
      "['freq', 'temp', 'log_freq', 'b_fft_mean', 'log_peak2peak', 'log_mean_abs_dbdt', 'form_fac', 'log_h_peak2peak', 'log_mean_abs_dhdt', 'p_derived_from_h', 'log_p_derived_from_h']\n"
     ]
    },
    {
     "name": "stderr",
     "output_type": "stream",
     "text": [
      "\n",
      "\u001b[A"
     ]
    },
    {
     "name": "stdout",
     "output_type": "stream",
     "text": [
      "['freq', 'temp', 'log_freq', 'b_fft_mean', 'log_peak2peak', 'log_mean_abs_dbdt', 'form_fac', 'log_h_peak2peak', 'log_mean_abs_dhdt', 'p_derived_from_h', 'log_p_derived_from_h']\n"
     ]
    },
    {
     "name": "stderr",
     "output_type": "stream",
     "text": [
      "Train across materials:  20%|██        | 2/10 [01:44<06:56, 52.07s/it]"
     ]
    },
    {
     "name": "stdout",
     "output_type": "stream",
     "text": [
      "['freq', 'temp', 'log_freq', 'b_fft_mean', 'log_peak2peak', 'log_mean_abs_dbdt', 'form_fac', 'log_h_peak2peak', 'log_mean_abs_dhdt', 'p_derived_from_h', 'log_p_derived_from_h']\n"
     ]
    },
    {
     "name": "stderr",
     "output_type": "stream",
     "text": []
    },
    {
     "name": "stdout",
     "output_type": "stream",
     "text": [
      "['freq', 'temp', 'log_freq', 'b_fft_mean', 'log_peak2peak', 'log_mean_abs_dbdt', 'form_fac', 'log_h_peak2peak', 'log_mean_abs_dhdt', 'p_derived_from_h', 'log_p_derived_from_h']\n"
     ]
    },
    {
     "name": "stderr",
     "output_type": "stream",
     "text": [
      "Train across materials:  30%|███       | 3/10 [01:58<04:02, 34.67s/it]"
     ]
    },
    {
     "name": "stdout",
     "output_type": "stream",
     "text": [
      "['freq', 'temp', 'log_freq', 'b_fft_mean', 'log_peak2peak', 'log_mean_abs_dbdt', 'form_fac', 'log_h_peak2peak', 'log_mean_abs_dhdt', 'p_derived_from_h', 'log_p_derived_from_h']\n"
     ]
    },
    {
     "name": "stderr",
     "output_type": "stream",
     "text": []
    },
    {
     "name": "stdout",
     "output_type": "stream",
     "text": [
      "['freq', 'temp', 'log_freq', 'b_fft_mean', 'log_peak2peak', 'log_mean_abs_dbdt', 'form_fac', 'log_h_peak2peak', 'log_mean_abs_dhdt', 'p_derived_from_h', 'log_p_derived_from_h']\n"
     ]
    },
    {
     "name": "stderr",
     "output_type": "stream",
     "text": [
      "\n",
      "\u001b[A"
     ]
    },
    {
     "name": "stdout",
     "output_type": "stream",
     "text": [
      "['freq', 'temp', 'log_freq', 'b_fft_mean', 'log_peak2peak', 'log_mean_abs_dbdt', 'form_fac', 'log_h_peak2peak', 'log_mean_abs_dhdt', 'p_derived_from_h', 'log_p_derived_from_h']\n"
     ]
    },
    {
     "name": "stderr",
     "output_type": "stream",
     "text": [
      "Train across materials:  40%|████      | 4/10 [02:09<02:32, 25.46s/it]"
     ]
    },
    {
     "name": "stdout",
     "output_type": "stream",
     "text": [
      "['freq', 'temp', 'log_freq', 'b_fft_mean', 'log_peak2peak', 'log_mean_abs_dbdt', 'form_fac', 'log_h_peak2peak', 'log_mean_abs_dhdt', 'p_derived_from_h', 'log_p_derived_from_h']\n"
     ]
    },
    {
     "name": "stderr",
     "output_type": "stream",
     "text": []
    },
    {
     "name": "stdout",
     "output_type": "stream",
     "text": [
      "['freq', 'temp', 'log_freq', 'b_fft_mean', 'log_peak2peak', 'log_mean_abs_dbdt', 'form_fac', 'log_h_peak2peak', 'log_mean_abs_dhdt', 'p_derived_from_h', 'log_p_derived_from_h']\n"
     ]
    },
    {
     "name": "stderr",
     "output_type": "stream",
     "text": [
      "\n",
      "\u001b[A"
     ]
    },
    {
     "name": "stdout",
     "output_type": "stream",
     "text": [
      "['freq', 'temp', 'log_freq', 'b_fft_mean', 'log_peak2peak', 'log_mean_abs_dbdt', 'form_fac', 'log_h_peak2peak', 'log_mean_abs_dhdt', 'p_derived_from_h', 'log_p_derived_from_h']\n"
     ]
    },
    {
     "name": "stderr",
     "output_type": "stream",
     "text": [
      "Train across materials:  50%|█████     | 5/10 [02:24<01:47, 21.58s/it]"
     ]
    },
    {
     "name": "stdout",
     "output_type": "stream",
     "text": [
      "['freq', 'temp', 'log_freq', 'b_fft_mean', 'log_peak2peak', 'log_mean_abs_dbdt', 'form_fac', 'log_h_peak2peak', 'log_mean_abs_dhdt', 'p_derived_from_h', 'log_p_derived_from_h']\n"
     ]
    },
    {
     "name": "stderr",
     "output_type": "stream",
     "text": []
    },
    {
     "name": "stdout",
     "output_type": "stream",
     "text": [
      "['freq', 'temp', 'log_freq', 'b_fft_mean', 'log_peak2peak', 'log_mean_abs_dbdt', 'form_fac', 'log_h_peak2peak', 'log_mean_abs_dhdt', 'p_derived_from_h', 'log_p_derived_from_h']\n"
     ]
    },
    {
     "name": "stderr",
     "output_type": "stream",
     "text": [
      "\n",
      "\u001b[A"
     ]
    },
    {
     "name": "stdout",
     "output_type": "stream",
     "text": [
      "['freq', 'temp', 'log_freq', 'b_fft_mean', 'log_peak2peak', 'log_mean_abs_dbdt', 'form_fac', 'log_h_peak2peak', 'log_mean_abs_dhdt', 'p_derived_from_h', 'log_p_derived_from_h']\n"
     ]
    },
    {
     "name": "stderr",
     "output_type": "stream",
     "text": [
      "Train across materials:  60%|██████    | 6/10 [02:38<01:16, 19.12s/it]"
     ]
    },
    {
     "name": "stdout",
     "output_type": "stream",
     "text": [
      "['freq', 'temp', 'log_freq', 'b_fft_mean', 'log_peak2peak', 'log_mean_abs_dbdt', 'form_fac', 'log_h_peak2peak', 'log_mean_abs_dhdt', 'p_derived_from_h', 'log_p_derived_from_h']\n"
     ]
    },
    {
     "name": "stderr",
     "output_type": "stream",
     "text": []
    },
    {
     "name": "stdout",
     "output_type": "stream",
     "text": [
      "['freq', 'temp', 'log_freq', 'b_fft_mean', 'log_peak2peak', 'log_mean_abs_dbdt', 'form_fac', 'log_h_peak2peak', 'log_mean_abs_dhdt', 'p_derived_from_h', 'log_p_derived_from_h']\n"
     ]
    },
    {
     "name": "stderr",
     "output_type": "stream",
     "text": [
      "Train across materials:  70%|███████   | 7/10 [02:53<00:53, 17.78s/it]"
     ]
    },
    {
     "name": "stdout",
     "output_type": "stream",
     "text": [
      "['freq', 'temp', 'log_freq', 'b_fft_mean', 'log_peak2peak', 'log_mean_abs_dbdt', 'form_fac', 'log_h_peak2peak', 'log_mean_abs_dhdt', 'p_derived_from_h', 'log_p_derived_from_h']\n"
     ]
    },
    {
     "name": "stderr",
     "output_type": "stream",
     "text": [
      "\n",
      "\u001b[A"
     ]
    },
    {
     "name": "stdout",
     "output_type": "stream",
     "text": [
      "['freq', 'temp', 'log_freq', 'b_fft_mean', 'log_peak2peak', 'log_mean_abs_dbdt', 'form_fac', 'log_h_peak2peak', 'log_mean_abs_dhdt', 'p_derived_from_h', 'log_p_derived_from_h']\n"
     ]
    },
    {
     "name": "stderr",
     "output_type": "stream",
     "text": []
    },
    {
     "name": "stdout",
     "output_type": "stream",
     "text": [
      "['freq', 'temp', 'log_freq', 'b_fft_mean', 'log_peak2peak', 'log_mean_abs_dbdt', 'form_fac', 'log_h_peak2peak', 'log_mean_abs_dhdt', 'p_derived_from_h', 'log_p_derived_from_h']\n"
     ]
    },
    {
     "name": "stderr",
     "output_type": "stream",
     "text": [
      "Train across materials:  80%|████████  | 8/10 [03:06<00:32, 16.16s/it]"
     ]
    },
    {
     "name": "stdout",
     "output_type": "stream",
     "text": [
      "['freq', 'temp', 'log_freq', 'b_fft_mean', 'log_peak2peak', 'log_mean_abs_dbdt', 'form_fac', 'log_h_peak2peak', 'log_mean_abs_dhdt', 'p_derived_from_h', 'log_p_derived_from_h']\n"
     ]
    },
    {
     "name": "stderr",
     "output_type": "stream",
     "text": []
    },
    {
     "name": "stdout",
     "output_type": "stream",
     "text": [
      "['freq', 'temp', 'log_freq', 'b_fft_mean', 'log_peak2peak', 'log_mean_abs_dbdt', 'form_fac', 'log_h_peak2peak', 'log_mean_abs_dhdt', 'p_derived_from_h', 'log_p_derived_from_h']\n"
     ]
    },
    {
     "name": "stderr",
     "output_type": "stream",
     "text": [
      "\n",
      "\u001b[A"
     ]
    },
    {
     "name": "stdout",
     "output_type": "stream",
     "text": [
      "['freq', 'temp', 'log_freq', 'b_fft_mean', 'log_peak2peak', 'log_mean_abs_dbdt', 'form_fac', 'log_h_peak2peak', 'log_mean_abs_dhdt', 'p_derived_from_h', 'log_p_derived_from_h']\n"
     ]
    },
    {
     "name": "stderr",
     "output_type": "stream",
     "text": [
      "Train across materials:  90%|█████████ | 9/10 [03:18<00:14, 14.98s/it]"
     ]
    },
    {
     "name": "stdout",
     "output_type": "stream",
     "text": [
      "['freq', 'temp', 'log_freq', 'b_fft_mean', 'log_peak2peak', 'log_mean_abs_dbdt', 'form_fac', 'log_h_peak2peak', 'log_mean_abs_dhdt', 'p_derived_from_h', 'log_p_derived_from_h']\n"
     ]
    },
    {
     "name": "stderr",
     "output_type": "stream",
     "text": []
    },
    {
     "name": "stdout",
     "output_type": "stream",
     "text": [
      "['freq', 'temp', 'log_freq', 'b_fft_mean', 'log_peak2peak', 'log_mean_abs_dbdt', 'form_fac', 'log_h_peak2peak', 'log_mean_abs_dhdt', 'p_derived_from_h', 'log_p_derived_from_h']\n"
     ]
    },
    {
     "name": "stderr",
     "output_type": "stream",
     "text": [
      "\n",
      "\u001b[A"
     ]
    },
    {
     "name": "stdout",
     "output_type": "stream",
     "text": [
      "['freq', 'temp', 'log_freq', 'b_fft_mean', 'log_peak2peak', 'log_mean_abs_dbdt', 'form_fac', 'log_h_peak2peak', 'log_mean_abs_dhdt', 'p_derived_from_h', 'log_p_derived_from_h']\n"
     ]
    },
    {
     "name": "stderr",
     "output_type": "stream",
     "text": [
      "Train across materials: 100%|██████████| 10/10 [04:01<00:00, 24.10s/it]\n",
      "[I 2023-10-04 13:35:10,211] Trial 1 finished with value: 0.02360719980732196 and parameters: {'n_estimators': 328, 'max_depth': 10, 'learning_rate': 0.2409674420082639}. Best is trial 1 with value: 0.02360719980732196.\n"
     ]
    },
    {
     "name": "stdout",
     "output_type": "stream",
     "text": [
      "n_estimators = 215\n",
      "max_depth = 13\n",
      "learning_rate = 0.11834585518625039\n"
     ]
    },
    {
     "name": "stderr",
     "output_type": "stream",
     "text": [
      "\n",
      "\u001b[A"
     ]
    },
    {
     "name": "stdout",
     "output_type": "stream",
     "text": [
      "['freq', 'temp', 'log_freq', 'b_fft_mean', 'log_peak2peak', 'log_mean_abs_dbdt', 'form_fac', 'log_h_peak2peak', 'log_mean_abs_dhdt', 'p_derived_from_h', 'log_p_derived_from_h']\n"
     ]
    },
    {
     "name": "stderr",
     "output_type": "stream",
     "text": [
      "Train across materials: 100%|██████████| 10/10 [04:06<00:00, 24.66s/it]\n",
      "[I 2023-10-04 13:35:16,679] Trial 2 finished with value: 0.02344159414285516 and parameters: {'n_estimators': 344, 'max_depth': 10, 'learning_rate': 0.2273426278850372}. Best is trial 2 with value: 0.02344159414285516.\n"
     ]
    },
    {
     "name": "stdout",
     "output_type": "stream",
     "text": [
      "n_estimators = 825\n",
      "max_depth = 12\n",
      "learning_rate = 0.08951353044752001\n"
     ]
    },
    {
     "name": "stderr",
     "output_type": "stream",
     "text": [
      "\n",
      "\u001b[A"
     ]
    },
    {
     "name": "stdout",
     "output_type": "stream",
     "text": [
      "['freq', 'temp', 'log_freq', 'b_fft_mean', 'log_peak2peak', 'log_mean_abs_dbdt', 'form_fac', 'log_h_peak2peak', 'log_mean_abs_dhdt', 'p_derived_from_h', 'log_p_derived_from_h']\n"
     ]
    },
    {
     "name": "stderr",
     "output_type": "stream",
     "text": [
      "Train across materials:   0%|          | 0/10 [00:00<?, ?it/s]"
     ]
    },
    {
     "name": "stdout",
     "output_type": "stream",
     "text": [
      "['freq', 'temp', 'log_freq', 'b_fft_mean', 'log_peak2peak', 'log_mean_abs_dbdt', 'form_fac', 'log_h_peak2peak', 'log_mean_abs_dhdt', 'p_derived_from_h', 'log_p_derived_from_h']\n"
     ]
    },
    {
     "name": "stderr",
     "output_type": "stream",
     "text": []
    },
    {
     "name": "stdout",
     "output_type": "stream",
     "text": [
      "['freq', 'temp', 'log_freq', 'b_fft_mean', 'log_peak2peak', 'log_mean_abs_dbdt', 'form_fac', 'log_h_peak2peak', 'log_mean_abs_dhdt', 'p_derived_from_h', 'log_p_derived_from_h']\n"
     ]
    },
    {
     "name": "stderr",
     "output_type": "stream",
     "text": [
      "Train across materials:  10%|█         | 1/10 [00:34<05:09, 34.42s/it]"
     ]
    },
    {
     "name": "stdout",
     "output_type": "stream",
     "text": [
      "['freq', 'temp', 'log_freq', 'b_fft_mean', 'log_peak2peak', 'log_mean_abs_dbdt', 'form_fac', 'log_h_peak2peak', 'log_mean_abs_dhdt', 'p_derived_from_h', 'log_p_derived_from_h']\n"
     ]
    },
    {
     "name": "stderr",
     "output_type": "stream",
     "text": [
      "\n",
      "Train across materials: 100%|██████████| 10/10 [05:12<00:00, 31.22s/it]\n",
      "[I 2023-10-04 13:36:23,211] Trial 0 finished with value: 0.023506666732293673 and parameters: {'n_estimators': 433, 'max_depth': 12, 'learning_rate': 0.22461011802371184}. Best is trial 2 with value: 0.02344159414285516.\n",
      "Train across materials:  20%|██        | 2/10 [01:01<04:00, 30.04s/it]"
     ]
    },
    {
     "name": "stdout",
     "output_type": "stream",
     "text": [
      "['freq', 'temp', 'log_freq', 'b_fft_mean', 'log_peak2peak', 'log_mean_abs_dbdt', 'form_fac', 'log_h_peak2peak', 'log_mean_abs_dhdt', 'p_derived_from_h', 'log_p_derived_from_h']\n"
     ]
    },
    {
     "name": "stderr",
     "output_type": "stream",
     "text": [
      "Train across materials:  30%|███       | 3/10 [01:09<02:18, 19.80s/it]"
     ]
    },
    {
     "name": "stdout",
     "output_type": "stream",
     "text": [
      "['freq', 'temp', 'log_freq', 'b_fft_mean', 'log_peak2peak', 'log_mean_abs_dbdt', 'form_fac', 'log_h_peak2peak', 'log_mean_abs_dhdt', 'p_derived_from_h', 'log_p_derived_from_h']\n"
     ]
    },
    {
     "name": "stderr",
     "output_type": "stream",
     "text": [
      "Train across materials:  40%|████      | 4/10 [01:14<01:25, 14.24s/it]"
     ]
    },
    {
     "name": "stdout",
     "output_type": "stream",
     "text": [
      "['freq', 'temp', 'log_freq', 'b_fft_mean', 'log_peak2peak', 'log_mean_abs_dbdt', 'form_fac', 'log_h_peak2peak', 'log_mean_abs_dhdt', 'p_derived_from_h', 'log_p_derived_from_h']\n"
     ]
    },
    {
     "name": "stderr",
     "output_type": "stream",
     "text": [
      "Train across materials:  50%|█████     | 5/10 [01:23<01:02, 12.42s/it]"
     ]
    },
    {
     "name": "stdout",
     "output_type": "stream",
     "text": [
      "['freq', 'temp', 'log_freq', 'b_fft_mean', 'log_peak2peak', 'log_mean_abs_dbdt', 'form_fac', 'log_h_peak2peak', 'log_mean_abs_dhdt', 'p_derived_from_h', 'log_p_derived_from_h']\n"
     ]
    },
    {
     "name": "stderr",
     "output_type": "stream",
     "text": [
      "Train across materials:  60%|██████    | 6/10 [01:33<00:45, 11.47s/it]"
     ]
    },
    {
     "name": "stdout",
     "output_type": "stream",
     "text": [
      "['freq', 'temp', 'log_freq', 'b_fft_mean', 'log_peak2peak', 'log_mean_abs_dbdt', 'form_fac', 'log_h_peak2peak', 'log_mean_abs_dhdt', 'p_derived_from_h', 'log_p_derived_from_h']\n"
     ]
    },
    {
     "name": "stderr",
     "output_type": "stream",
     "text": []
    }
   ],
   "source": [
    "import optuna\n",
    "\n",
    "\n",
    "study = optuna.create_study(direction=\"minimize\")\n",
    "study.optimize(objective, n_trials=5)\n",
    "#print(study.best_trial)"
   ]
  }
 ],
 "metadata": {
  "kernelspec": {
   "display_name": ".venv",
   "language": "python",
   "name": "python3"
  },
  "language_info": {
   "codemirror_mode": {
    "name": "ipython",
    "version": 3
   },
   "file_extension": ".py",
   "mimetype": "text/x-python",
   "name": "python",
   "nbconvert_exporter": "python",
   "pygments_lexer": "ipython3",
   "version": "3.11.3"
  },
  "orig_nbformat": 4,
  "vscode": {
   "interpreter": {
    "hash": "862f57f7b4a9bcb8e62a2c8b5a26d37db35f8703e11463ebdedd88c83882dd1c"
   }
  }
 },
 "nbformat": 4,
 "nbformat_minor": 2
}
