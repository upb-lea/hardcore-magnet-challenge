{
 "cells": [
  {
   "cell_type": "code",
   "execution_count": null,
   "metadata": {},
   "outputs": [],
   "source": [
    "import pandas as pd\n",
    "import numpy as np\n",
    "import matplotlib.pyplot as plt\n",
    "import seaborn as sns\n",
    "from pathlib import Path\n",
    "import torch\n",
    "from utils.visualization import visualize_rel_error_report\n",
    "from utils.data import (\n",
    "    DATA_SOURCE,\n",
    "    PROC_SOURCE,\n",
    "    PRED_SINK,\n",
    "    MODEL_SINK,\n",
    "    EXP_CSV_COLS,\n",
    "    EXP_CSV_PATH,\n",
    "    TRIALS_CSV_COLS,\n",
    "    TRIALS_CSV_PATH,\n",
    ")\n",
    "\n",
    "VAL_SOURCE = DATA_SOURCE.parent / \"validation\"\n",
    "pd.options.display.max_rows = 1000\n",
    "pd.options.display.max_columns = 100"
   ]
  },
  {
   "cell_type": "code",
   "execution_count": null,
   "metadata": {},
   "outputs": [],
   "source": [
    "hpo_exp_ids = []"
   ]
  },
  {
   "cell_type": "code",
   "execution_count": null,
   "metadata": {},
   "outputs": [],
   "source": [
    "# load up meta info\n",
    "exp_tab = pd.read_csv(EXP_CSV_PATH, dtype=EXP_CSV_COLS)\n",
    "trials_tab = pd.read_csv(\n",
    "    TRIALS_CSV_PATH,\n",
    "    dtype=TRIALS_CSV_COLS,\n",
    "    parse_dates=[\"start_date\", \"end_date\"],\n",
    ")\n",
    "# only one row should be returned\n",
    "meta_info_df = trials_tab.merge(exp_tab, on=\"experiment_uid\")\n",
    "exp_tab"
   ]
  },
  {
   "cell_type": "markdown",
   "metadata": {},
   "source": [
    "| Description | # Parameters |\n",
    "| ----------   | --------- |\n",
    "| no expensive layer | 1135 |\n",
    "| 8 neurons in expensive layer | 2231 |\n",
    "| standard topo (24 in expensive) | 4711 |\n",
    "| 32 in expensive | 5951|\n",
    "| 32 in expensive and kernel size 17 (instead of 9) | 10943|"
   ]
  },
  {
   "cell_type": "code",
   "execution_count": null,
   "metadata": {},
   "outputs": [],
   "source": [
    "meta_info_df.query(f\"debug == False\").head()"
   ]
  },
  {
   "cell_type": "code",
   "execution_count": null,
   "metadata": {},
   "outputs": [],
   "source": [
    "fig, axes = plt.subplots(1, 5, figsize=(15, 10), sharey=True)\n",
    "err_cols = [c for c in meta_info_df if c.endswith(\"rel_err\") and not c.startswith(\"max\")]\n",
    "expid2modelsize = {'75010': 1135, '14abf': 4711,\n",
    "                   'ea89c': 2231, '60642': 5951, '0a2ef': 10943}\n",
    "\n",
    "for ax, (mat_lbl, mat_df) in zip(axes.flatten(), meta_info_df.query(f\"debug == False\").groupby(\"material\")):\n",
    "    #errs = mat_df.loc[:, err_cols].to_numpy().ravel()\n",
    "    for c in err_cols:\n",
    "        sns.stripplot(\n",
    "            mat_df.assign(model_size= lambda df: df.experiment_uid.map(expid2modelsize)), x=\"model_size\", y=c, hue=\"experiment_uid\",\n",
    "            ax=ax, legend=False)\n",
    "    ax.set_ylabel(mat_lbl)\n",
    "fig.tight_layout()\n",
    "    "
   ]
  }
 ],
 "metadata": {
  "kernelspec": {
   "display_name": "py39",
   "language": "python",
   "name": "python3"
  },
  "language_info": {
   "codemirror_mode": {
    "name": "ipython",
    "version": 3
   },
   "file_extension": ".py",
   "mimetype": "text/x-python",
   "name": "python",
   "nbconvert_exporter": "python",
   "pygments_lexer": "ipython3",
   "version": "3.9.16"
  }
 },
 "nbformat": 4,
 "nbformat_minor": 2
}
